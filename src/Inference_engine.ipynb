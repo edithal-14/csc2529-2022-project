{
 "cells": [
  {
   "cell_type": "code",
   "execution_count": 1,
   "metadata": {},
   "outputs": [],
   "source": [
    "import importlib\n",
    "import torch\n",
    "import matplotlib.pyplot as plt\n",
    "import numpy as np\n",
    "from skimage.metrics import peak_signal_noise_ratio as psnr\n",
    "from skimage.metrics import structural_similarity as ssim\n",
    "import torchvision.transforms as transforms\n",
    "import os\n",
    "from data import BraTSDataset\n",
    "import torchvision.utils as vutils\n",
    "from PIL import Image"
   ]
  },
  {
   "cell_type": "code",
   "execution_count": 2,
   "metadata": {},
   "outputs": [],
   "source": [
    "from gan.UNetGenerator import UNetGenerator\n",
    "import config.unetConfig as cfg"
   ]
  },
  {
   "cell_type": "code",
   "execution_count": 2,
   "metadata": {},
   "outputs": [],
   "source": [
    "image_size = 64"
   ]
  },
  {
   "cell_type": "markdown",
   "metadata": {},
   "source": [
    "### Store T1/T1ce real images"
   ]
  },
  {
   "cell_type": "code",
   "execution_count": 3,
   "metadata": {},
   "outputs": [],
   "source": [
    "dataset_root = \"dataset\"\n",
    "t1_train_data = \"data/MICCAI_BraTS2020/train/t1ce\"\n",
    "store_path = \"images/t1ce/real\"\n",
    "image_paths = [\n",
    "    os.path.join(t1_train_data, impath) for impath in os.listdir(t1_train_data)\n",
    "]\n",
    "batch_size = len(image_paths)\n",
    "tf = transforms.Compose([\n",
    "    transforms.Resize(image_size),\n",
    "    transforms.CenterCrop(image_size),\n",
    "    transforms.ToTensor(),\n",
    "    ])\n",
    "dataset = BraTSDataset(image_paths, tf)"
   ]
  },
  {
   "cell_type": "code",
   "execution_count": null,
   "metadata": {},
   "outputs": [],
   "source": [
    "dataset.save(store_path)"
   ]
  },
  {
   "cell_type": "code",
   "execution_count": 4,
   "metadata": {},
   "outputs": [],
   "source": [
    "# Model image mapping\n",
    "\n",
    "# wgan_18_35_30_11       -> wgan_gp_t1\n",
    "# psnr_threshold = 17.5\n",
    "# ssim_threshold = 0.65\n",
    "\n",
    "# wgan_t1ce_21_21_30_11  -> wgan_gp_t1ce\n",
    "# psnr_threshold = 17.5\n",
    "# ssim_threshold = 0.65\n",
    "\n",
    "# wgan_t1ce_22_14_30_11  -> wgan_t1ce\n",
    "# psnr_threshold = 14.5\n",
    "# ssim_threshold = 0.35\n",
    "\n",
    "# wgan_20_22_29_11       -> wgan_t1\n",
    "# psnr_threshold = 14.5\n",
    "# ssim_threshold = 0.35\n",
    "\n",
    "# dcgan_00_07_01_12      -> dcgan_t1\n",
    "# psnr_threshold = 16.5\n",
    "# ssim_threshold = 0.55\n",
    "\n",
    "# dcgan_t1ce_08_17_02_12 -> dcgan_t1ce\n",
    "# psnr_threshold = 18.5\n",
    "# ssim_threshold = 0.55\n",
    "\n",
    "# unetgan/norm_winit/unetgan_T1_Gstate__15epochs_64batch_G_300z_64feat_0.001lr_D_4lvl_64feat_0.0002lr_0.2lRelu -> images/t1/unetgan_norm_winit\n",
    "\n",
    "# unetgan/norm_winit/unetgan_T1CE_Gstate__15epochs_64batch_G_300z_64feat_0.001lr_D_4lvl_64feat_0.0002lr_0.2lRelu -> images/t1ce/unetgan_norm_winit\n",
    "\n",
    "# unetgan/ortho_winit/unetgan_T1_Gstate__15epochs_64batch_G_300z_64feat_0.001lr_D_4lvl_64feat_0.0002lr_0.2lRelu -> images/t1/unetgan_ortho_winit\n",
    "\n",
    "# unetgan/ortho_winit/unetgan_T1CE_Gstate__15epochs_64batch_G_300z_64feat_0.001lr_D_4lvl_64feat_0.0002lr_0.2lRelu -> images/t1ce/unetgan_ortho_winit\n",
    "\n",
    "# CHANGE THESE BEFORE RUNNING\n",
    "\n",
    "model_folder = \"models/dcgan_t1ce_08_17_02_12\"\n",
    "image_folder = \"images/t1ce/dcgan\"\n",
    "# psnr_threshold = 18.5\n",
    "# ssim_threshold = 0.55"
   ]
  },
  {
   "cell_type": "code",
   "execution_count": 5,
   "metadata": {},
   "outputs": [],
   "source": [
    "def compute_psnr(real_batch: np.ndarray, fake_batch: np.ndarray) -> float:\n",
    "    b_size = real_batch.shape[0]\n",
    "    psnr_val = 0.0\n",
    "    # fake_batch will only have one batch\n",
    "    for i in range(b_size):\n",
    "        psnr_val += psnr(\n",
    "            real_batch[i, :, :, :].transpose(1, 2, 0),\n",
    "            fake_batch[0, :, :, :].transpose(1, 2, 0),\n",
    "            data_range=1.0,\n",
    "        )\n",
    "    return psnr_val / b_size"
   ]
  },
  {
   "cell_type": "code",
   "execution_count": 6,
   "metadata": {},
   "outputs": [],
   "source": [
    "def compute_ssim(real_batch: np.ndarray, fake_batch: np.ndarray) -> float:\n",
    "    b_size = real_batch.shape[0]\n",
    "    ssim_val = 0.0\n",
    "    # fake_batch will only have one batch\n",
    "    for i in range(b_size):\n",
    "        ssim_val += ssim(\n",
    "            real_batch[i, :, :, :],\n",
    "            fake_batch[0, :, :, :],\n",
    "            channel_axis=0,\n",
    "            data_range=1.0,\n",
    "        )\n",
    "    return ssim_val / b_size"
   ]
  },
  {
   "cell_type": "code",
   "execution_count": 7,
   "metadata": {},
   "outputs": [],
   "source": [
    "# model_library = \".\".join(model_folder.split(\"/\"))\n",
    "# model = importlib.import_module(f\"{model_library}.model\")"
   ]
  },
  {
   "cell_type": "code",
   "execution_count": 8,
   "metadata": {},
   "outputs": [
    {
     "name": "stdout",
     "output_type": "stream",
     "text": [
      "Generator(\n",
      "  (main): Sequential(\n",
      "    (0): ConvTranspose2d(128, 256, kernel_size=(4, 4), stride=(1, 1), bias=False)\n",
      "    (1): BatchNorm2d(256, eps=1e-05, momentum=0.1, affine=True, track_running_stats=True)\n",
      "    (2): ReLU(inplace=True)\n",
      "    (3): ConvTranspose2d(256, 128, kernel_size=(4, 4), stride=(2, 2), padding=(1, 1), bias=False)\n",
      "    (4): BatchNorm2d(128, eps=1e-05, momentum=0.1, affine=True, track_running_stats=True)\n",
      "    (5): ReLU(inplace=True)\n",
      "    (6): ConvTranspose2d(128, 64, kernel_size=(4, 4), stride=(2, 2), padding=(1, 1), bias=False)\n",
      "    (7): BatchNorm2d(64, eps=1e-05, momentum=0.1, affine=True, track_running_stats=True)\n",
      "    (8): ReLU(inplace=True)\n",
      "    (9): ConvTranspose2d(64, 32, kernel_size=(4, 4), stride=(2, 2), padding=(1, 1), bias=False)\n",
      "    (10): BatchNorm2d(32, eps=1e-05, momentum=0.1, affine=True, track_running_stats=True)\n",
      "    (11): ReLU(inplace=True)\n",
      "    (12): ConvTranspose2d(32, 1, kernel_size=(4, 4), stride=(2, 2), padding=(1, 1), bias=False)\n",
      "    (13): Tanh()\n",
      "  )\n",
      ")\n"
     ]
    }
   ],
   "source": [
    "# model_g = model.Generator().to(model.device)\n",
    "# model_g.load_state_dict(torch.load(f\"{model_folder}/generator.pth\"))\n",
    "# model_g.eval()\n",
    "# print(model_g)"
   ]
  },
  {
   "cell_type": "code",
   "execution_count": 8,
   "metadata": {},
   "outputs": [
    {
     "name": "stdout",
     "output_type": "stream",
     "text": [
      "UNetGenerator(\n",
      "  (main): Sequential(\n",
      "    (0): ConvTranspose2d(300, 1024, kernel_size=(4, 4), stride=(1, 1), bias=False)\n",
      "    (1): BatchNorm2d(1024, eps=1e-05, momentum=0.1, affine=True, track_running_stats=True)\n",
      "    (2): LeakyReLU(negative_slope=0.01, inplace=True)\n",
      "    (3): ConvTranspose2d(1024, 512, kernel_size=(4, 4), stride=(2, 2), padding=(1, 1), bias=False)\n",
      "    (4): BatchNorm2d(512, eps=1e-05, momentum=0.1, affine=True, track_running_stats=True)\n",
      "    (5): LeakyReLU(negative_slope=0.01, inplace=True)\n",
      "    (6): ConvTranspose2d(512, 256, kernel_size=(4, 4), stride=(2, 2), padding=(1, 1), bias=False)\n",
      "    (7): BatchNorm2d(256, eps=1e-05, momentum=0.1, affine=True, track_running_stats=True)\n",
      "    (8): LeakyReLU(negative_slope=0.01, inplace=True)\n",
      "    (9): ConvTranspose2d(256, 128, kernel_size=(4, 4), stride=(2, 2), padding=(1, 1), bias=False)\n",
      "    (10): BatchNorm2d(128, eps=1e-05, momentum=0.1, affine=True, track_running_stats=True)\n",
      "    (11): LeakyReLU(negative_slope=0.01, inplace=True)\n",
      "    (12): ConvTranspose2d(128, 64, kernel_size=(4, 4), stride=(2, 2), padding=(1, 1), bias=False)\n",
      "    (13): BatchNorm2d(64, eps=1e-05, momentum=0.1, affine=True, track_running_stats=True)\n",
      "    (14): LeakyReLU(negative_slope=0.01, inplace=True)\n",
      "    (15): ConvTranspose2d(64, 1, kernel_size=(4, 4), stride=(2, 2), padding=(1, 1), bias=False)\n",
      "    (16): Tanh()\n",
      "  )\n",
      ")\n"
     ]
    }
   ],
   "source": [
    "netG = UNetGenerator(cfg.LATENT_SZ, cfg.NGF, cfg.NGC).to(cfg.DEVICE)\n",
    "netG.load_state_dict(torch.load(f\"{model_folder}.pth\"))\n",
    "netG.eval()\n",
    "print(netG)"
   ]
  },
  {
   "cell_type": "code",
   "execution_count": null,
   "metadata": {},
   "outputs": [],
   "source": [
    "tf = transforms.Compose([\n",
    "    transforms.Resize(image_size),\n",
    "    transforms.CenterCrop(image_size),\n",
    "    transforms.ToTensor(),\n",
    "    ])\n",
    "\n",
    "num_iter_per_image = 100\n",
    "for i in range(len(image_paths)):\n",
    "    real = dataset.__getitem__(i).numpy()[None, ...]\n",
    "    best_psnr_val = float(\"-inf\")\n",
    "    best_ssim_val = None\n",
    "    best_image = None\n",
    "    for j in range(num_iter_per_image):\n",
    "\n",
    "        noise = torch.randn(1, cfg.LATENT_SZ, 1, 1, device=cfg.DEVICE)\n",
    "        fake_image = netG(noise).detach().cpu().numpy()\n",
    "        fake_image = fake_image[0][0]\n",
    "        fake_image = np.uint8(fake_image * 255)\n",
    "        fake_image = Image.fromarray(fake_image, mode=\"L\")\n",
    "        fake_image = tf(fake_image)\n",
    "        fake_image = fake_image.numpy()[None, ...]\n",
    "\n",
    "        psnr_val = compute_psnr(real, fake_image)\n",
    "        if psnr_val > best_psnr_val:\n",
    "            best_psnr_val = psnr_val\n",
    "            best_image = fake_image.copy()\n",
    "            best_ssim_val = compute_ssim(real, fake_image)\n",
    "    print(f\"Best image PSNR: {best_psnr_val}\")\n",
    "    print(f\"Best image SSIM: {best_ssim_val}\")\n",
    "    best_image = torch.Tensor(best_image)\n",
    "    vutils.save_image(best_image, f\"{image_folder}/{i}.png\")\n",
    "    print(f\"Saved {i+1} image\")"
   ]
  },
  {
   "cell_type": "code",
   "execution_count": null,
   "metadata": {},
   "outputs": [],
   "source": [
    "# num_iter_per_image = 100\n",
    "# for i in range(len(image_paths)):\n",
    "#     best_psnr_val = float(\"-inf\")\n",
    "#     best_ssim_val = None\n",
    "#     best_image = None\n",
    "#     real = dataset.__getitem__(i).numpy()[None, ...]\n",
    "#     for j in range(num_iter_per_image):\n",
    "#         noise = torch.randn(1, model.latent_size, 1, 1, device=model.device)\n",
    "#         fake_image = model_g(noise).detach().cpu().numpy()\n",
    "#         psnr_val = compute_psnr(real, fake_image)\n",
    "#         if psnr_val > best_psnr_val:\n",
    "#             best_psnr_val = psnr_val\n",
    "#             best_image = fake_image\n",
    "#             best_ssim_val = compute_ssim(real, fake_image)\n",
    "#     print(f\"Best image PSNR: {best_psnr_val}\")\n",
    "#     print(f\"Best image SSIM: {best_ssim_val}\")\n",
    "#     best_image = torch.Tensor(best_image)\n",
    "#     vutils.save_image(best_image, f\"{image_folder}/{i}.png\")\n",
    "#     print(f\"Saved {i+1} image\")"
   ]
  },
  {
   "cell_type": "code",
   "execution_count": null,
   "metadata": {},
   "outputs": [],
   "source": [
    "# fake = np.zeros((batch_size, 1, model.image_size, model.image_size))\n",
    "# # Don't stop until required number of images have been saved\n",
    "# total_num_images = batch_size\n",
    "# num_images = 0\n",
    "# while(True):\n",
    "#     noise = torch.randn(1, model.latent_size, 1, 1, device=model.device)\n",
    "#     fake_image = model_g(noise).detach().cpu().numpy()\n",
    "#     psnr_val = compute_psnr(real, fake_image)\n",
    "#     ssim_val = compute_ssim(real, fake_image)\n",
    "#     if psnr_val > psnr_threshold and ssim_val > ssim_threshold:\n",
    "#         fake[num_images] = fake_image\n",
    "#         num_images += 1\n",
    "#         print(f\"Saved image with psnr: {psnr_val}, ssim: {ssim_val}, total: {num_images}\")\n",
    "#         # Save fake_image\n",
    "#         # Stop if we have generated equal number of fake images\n",
    "#         # as compared to real images\n",
    "#         if num_images >= total_num_images:\n",
    "#             break"
   ]
  },
  {
   "cell_type": "code",
   "execution_count": null,
   "metadata": {},
   "outputs": [],
   "source": [
    "# real = torch.Tensor(real)\n",
    "# fake = torch.Tensor(fake)\n",
    "# num_images = real.shape[0]\n",
    "# print(f\"Saving {num_images} images\")\n",
    "# # Save images\n",
    "# for i in range(num_images):\n",
    "#     # Save real\n",
    "#     vutils.save_image(real[i], f\"{image_folder}/real/{i+1}.png\")\n",
    "\n",
    "#     # Save fake\n",
    "#     vutils.save_image(fake[i], f\"{image_folder}/fake/{i+1}.png\")"
   ]
  }
 ],
 "metadata": {
  "kernelspec": {
   "display_name": "Python 3.8.10 ('vanilla')",
   "language": "python",
   "name": "python3"
  },
  "language_info": {
   "codemirror_mode": {
    "name": "ipython",
    "version": 3
   },
   "file_extension": ".py",
   "mimetype": "text/x-python",
   "name": "python",
   "nbconvert_exporter": "python",
   "pygments_lexer": "ipython3",
   "version": "3.8.10"
  },
  "orig_nbformat": 4,
  "vscode": {
   "interpreter": {
    "hash": "e79bffa39ae3b34dd6a67cfb7a86efb7a981f71c16a69aea29c61b44b39f0d36"
   }
  }
 },
 "nbformat": 4,
 "nbformat_minor": 2
}
