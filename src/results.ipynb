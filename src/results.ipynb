{
 "cells": [
  {
   "cell_type": "code",
   "execution_count": 1,
   "metadata": {},
   "outputs": [],
   "source": [
    "import os\n",
    "import numpy as np\n",
    "import pandas as pd\n",
    "\n",
    "from skimage.io import imread, imread_collection\n",
    "from skimage.metrics import peak_signal_noise_ratio as psnr\n",
    "from skimage.metrics import structural_similarity as ssim"
   ]
  },
  {
   "cell_type": "markdown",
   "metadata": {},
   "source": [
    "## Read all images (64x64)\n",
    "- Real\n",
    "- DCGAN\n",
    "- DCGAN (Style)\n",
    "- WGAN\n",
    "- WGAN (Style)\n",
    "- WGAN-GP\n",
    "- WGAN-GP (Style)\n",
    "- UNetGAN-Norm\n",
    "- UNetGAN-Norm (Style)\n",
    "- UNetGAN-Ortho\n",
    "- UNetGAN-Ortho (Style)\n",
    "- AggrGAN-All\n",
    "- AggrGAN-All (Style)\n",
    "- AggrGAN-Top3\n",
    "- AggrGAN-Top3 (Style)"
   ]
  },
  {
   "cell_type": "code",
   "execution_count": 2,
   "metadata": {},
   "outputs": [],
   "source": [
    "BASE_DIR = os.getcwd()+\"/images\""
   ]
  },
  {
   "cell_type": "code",
   "execution_count": 3,
   "metadata": {},
   "outputs": [],
   "source": [
    "cls = [\"t1\", \"t1ce\"]\n",
    "models = {\n",
    "    \"DCGAN\": \"dcgan\",\n",
    "    \"DCGAN+style transfer\": \"dcgan_style\",\n",
    "    \"WGAN\": \"wgan\",\n",
    "    \"WGAN+style transfer\": \"wgan_style\",\n",
    "    \"WGAN-GP\": \"wgan_gp\",\n",
    "    \"WGAN-GP+style transfer\": \"wgan_gp_style\",\n",
    "    \"UNetGAN (normal weight init)\": \"unetgan-norm\",\n",
    "    \"UNetGAN (normal weight init)+style transfer\": \"unetgan_style-norm\",\n",
    "    \"UNetGAN (ortho weight init)\": \"unetgan-ortho\",\n",
    "    \"UNetGAN (ortho weight init)+style transfer\": \"unetgan_style-ortho\",\n",
    "    \"AGGrGAN (total agg)\": \"sobel_aggr_all\",\n",
    "    \"AGGrGAN (total agg)+style transfer\": \"sobel_aggr_all_style\",\n",
    "    \"AGGrGAN (top 3 PSNR)\": \"sobel_aggr_top3\",\n",
    "    \"AGGrGAN (top 3 PSNR)+style transfer\": \"sobel_aggr_top3_style\"\n",
    "}\n",
    "metrics = [\"PSNR\", \"SSIM\"]\n",
    "\n",
    "output = dict()\n",
    "for model in models:\n",
    "    output[model] = dict()\n",
    "    for cl in cls:\n",
    "        for metric in metrics:\n",
    "            output[model][cl.upper()+\"_\"+metric] = list()\n",
    "\n",
    "file = dict.fromkeys(cls, dict.fromkeys(models, None))\n",
    "for cl in cls:\n",
    "    for model in models:\n",
    "        model_frags = models[model].split('-')\n",
    "        if len(model_frags) > 1:\n",
    "            files = imread_collection(BASE_DIR+f\"/{cl}/{model_frags[0]}/{model_frags[1]}/*.png\")\n",
    "        else:\n",
    "            files = imread_collection(BASE_DIR+f\"/{cl}/{models[model]}/*.png\")\n",
    "        for i, f in enumerate(files.files):\n",
    "            rdir = BASE_DIR+f\"/{cl}/real/{i}.png\"\n",
    "            real = imread(rdir, as_gray=True)\n",
    "            fake = imread(f, as_gray=True)\n",
    "            # print(f\"{rdir} | {f} ==> {real.max()} | {fake.shape}\")\n",
    "            output[model][cl.upper()+\"_\"+\"PSNR\"].append(psnr(real, fake, data_range=1.0))\n",
    "            output[model][cl.upper()+\"_\"+\"SSIM\"].append(ssim(real, fake, data_range=1.0))\n",
    "        output[model][cl.upper()+\"_\"+\"PSNR\"] = np.round(np.mean(output[model][cl.upper()+\"_\"+\"PSNR\"]),decimals=2)\n",
    "        output[model][cl.upper()+\"_\"+\"SSIM\"] = np.round(np.mean(output[model][cl.upper()+\"_\"+\"SSIM\"]),decimals=2)"
   ]
  },
  {
   "cell_type": "code",
   "execution_count": 4,
   "metadata": {},
   "outputs": [],
   "source": [
    "df = pd.DataFrame.from_dict(output, orient='index')\n",
    "df = df.rename_axis('Method').reset_index()"
   ]
  },
  {
   "cell_type": "code",
   "execution_count": 5,
   "metadata": {},
   "outputs": [],
   "source": [
    "df.to_csv('score_table.csv')"
   ]
  }
 ],
 "metadata": {
  "kernelspec": {
   "display_name": "Python 3.9.15 ('csc2529')",
   "language": "python",
   "name": "python3"
  },
  "language_info": {
   "codemirror_mode": {
    "name": "ipython",
    "version": 3
   },
   "file_extension": ".py",
   "mimetype": "text/x-python",
   "name": "python",
   "nbconvert_exporter": "python",
   "pygments_lexer": "ipython3",
   "version": "3.9.15"
  },
  "orig_nbformat": 4,
  "vscode": {
   "interpreter": {
    "hash": "3672a00c4d800b294f4dbd5e7d9c8dbf9edcae0d736774a4d58db9c25802c3ac"
   }
  }
 },
 "nbformat": 4,
 "nbformat_minor": 2
}
