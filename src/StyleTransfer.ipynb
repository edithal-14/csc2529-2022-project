{
 "cells": [
  {
   "cell_type": "code",
   "execution_count": 1,
   "metadata": {},
   "outputs": [],
   "source": [
    "import torch\n",
    "import torch.cuda\n",
    "import torch.nn as nn\n",
    "import torch.optim as optim\n",
    "import torchvision.models as models\n",
    "import torchvision.transforms as transforms\n",
    "from PIL import Image\n",
    "from skimage.metrics import peak_signal_noise_ratio as psnr\n",
    "from torchvision.utils import save_image\n",
    "import os\n",
    "from tqdm import tqdm\n",
    "import numpy as np"
   ]
  },
  {
   "cell_type": "code",
   "execution_count": 2,
   "metadata": {},
   "outputs": [],
   "source": [
    "# Reference: https://towardsdatascience.com/implementing-neural-style-transfer-using-pytorch-fd8d43fb7bfa"
   ]
  },
  {
   "cell_type": "code",
   "execution_count": 3,
   "metadata": {},
   "outputs": [],
   "source": [
    "image_size = 64"
   ]
  },
  {
   "cell_type": "code",
   "execution_count": 4,
   "metadata": {},
   "outputs": [],
   "source": [
    "# Use these five layers of VGG network: 0, 5, 10, 19, 28\n",
    "# Each element in features array corresponds to output of the intermediate layer\n",
    "class VGG(nn.Module):\n",
    "    def __init__(self):\n",
    "        super(VGG, self).__init__()\n",
    "        # Eliminate the unused layers(layers beyond conv5_1)\n",
    "        # self.layers = [0, 5, 10, 19, 28]\n",
    "        self.layers = [0, 5, 10]\n",
    "        self.model = models.vgg19(pretrained=True).features\n",
    "\n",
    "    def forward(self, x):\n",
    "        features = []\n",
    "        for i, layer in enumerate(self.model):\n",
    "            x = layer(x)\n",
    "            if i in self.layers:\n",
    "                features.append(x)\n",
    "        \n",
    "        return features"
   ]
  },
  {
   "cell_type": "code",
   "execution_count": 5,
   "metadata": {},
   "outputs": [],
   "source": [
    "def calculate_content_loss(generated_features, content_features):\n",
    "    content_loss = torch.mean((generated_features - content_features) ** 2)\n",
    "    return content_loss"
   ]
  },
  {
   "cell_type": "code",
   "execution_count": 6,
   "metadata": {},
   "outputs": [],
   "source": [
    "def calculate_style_loss(generated, style):\n",
    "    batch_size, channel, height, width = generated.shape\n",
    "\n",
    "    gram = torch.mm(generated.view(channel, height * width), generated.view(channel, height * width).t())\n",
    "    A = torch.mm(style.view(channel, height * width), style.view(channel, height * width).t())\n",
    "\n",
    "    style_l = torch.mean((gram - A) ** 2)\n",
    "    return style_l"
   ]
  },
  {
   "cell_type": "code",
   "execution_count": 7,
   "metadata": {},
   "outputs": [],
   "source": [
    "def calculate_loss(generated_features, content_features, style_features, alpha, beta):\n",
    "    style_loss = content_loss = 0\n",
    "    for generated, content, style in zip(generated_features, content_features, style_features):\n",
    "        content_loss += calculate_content_loss(generated, content)\n",
    "        style_loss += calculate_style_loss(generated, style)\n",
    "\n",
    "    total_loss = alpha * content_loss + beta * style_loss\n",
    "    return total_loss"
   ]
  },
  {
   "cell_type": "code",
   "execution_count": 8,
   "metadata": {},
   "outputs": [],
   "source": [
    "def image_loader(path, device):\n",
    "    image = Image.open(path)\n",
    "    loader = transforms.Compose([transforms.Resize((image_size, image_size)), transforms.ToTensor()])\n",
    "    # fake batch dimension required to fit network's input dimensions\n",
    "    image = loader(image).unsqueeze(0)\n",
    "    return image.to(device, torch.float)"
   ]
  },
  {
   "cell_type": "code",
   "execution_count": 9,
   "metadata": {},
   "outputs": [],
   "source": [
    "def create_model():\n",
    "    device = torch.device(\"cuda\" if (torch.cuda.is_available()) else 'cpu')\n",
    "    model = VGG().to(device).eval()\n",
    "\n",
    "    return device, model"
   ]
  },
  {
   "cell_type": "code",
   "execution_count": 10,
   "metadata": {},
   "outputs": [],
   "source": [
    "def perform_style_transfer(\n",
    "    model,\n",
    "    device, \n",
    "    content_img,\n",
    "    style_img,\n",
    "    image_num,\n",
    "    epochs=800,\n",
    "    alpha=5,\n",
    "    beta=100,\n",
    "    optimizer_betas=(0.9, 0.999)\n",
    "    ):\n",
    "        style_image = image_loader(style_img, device)\n",
    "\n",
    "        content_image = image_loader(content_img, device)\n",
    "        generated_image = content_image.clone().requires_grad_(True)\n",
    "\n",
    "        # Updates the pixels of the generated image not the model parameter\n",
    "        optimizer = optim.Adam([generated_image], betas=optimizer_betas)  # (0.5, 0.999)\n",
    "\n",
    "        for epoch in tqdm(range(1, epochs + 1)):\n",
    "            generated_features = model(generated_image)\n",
    "            content_features = model(content_image)\n",
    "            style_features = model(style_image)\n",
    "\n",
    "            # iterating over the activation of each layer and calculate the loss and\n",
    "            # add it to the content and the style loss\n",
    "            total_loss = calculate_loss(generated_features, content_features, style_features, alpha, beta)\n",
    "\n",
    "            # optimize the pixel values of the generated image and backpropagate the loss\n",
    "            optimizer.zero_grad()\n",
    "            total_loss.backward()  # Backpropagate the total loss\n",
    "            optimizer.step()  # Update the pixel values of the generated image\n",
    "\n",
    "        save_image(generated_image, 'images/t1/wgan_gp_style/' + str(image_num) + '.png')\n",
    "\n",
    "        style_image = style_image.cpu().detach().numpy()\n",
    "        content_image = content_image.cpu().detach().numpy()\n",
    "        generated_image = generated_image.cpu().detach().numpy()\n",
    "        old_psnr = psnr(style_image, content_image)\n",
    "        new_psnr = psnr(style_image, generated_image)\n",
    "\n",
    "        tqdm.write(f\"Old PSNR: {old_psnr:.4f}\")\n",
    "        tqdm.write(f\"New PSNR: {new_psnr:.4f}\")"
   ]
  },
  {
   "cell_type": "code",
   "execution_count": 11,
   "metadata": {},
   "outputs": [
    {
     "name": "stderr",
     "output_type": "stream",
     "text": [
      "/home/vigu/pyenvs/vanilla/lib/python3.8/site-packages/torchvision/models/_utils.py:208: UserWarning: The parameter 'pretrained' is deprecated since 0.13 and may be removed in the future, please use 'weights' instead.\n",
      "  warnings.warn(\n",
      "/home/vigu/pyenvs/vanilla/lib/python3.8/site-packages/torchvision/models/_utils.py:223: UserWarning: Arguments other than a weight enum or `None` for 'weights' are deprecated since 0.13 and may be removed in the future. The current behavior is equivalent to passing `weights=VGG19_Weights.IMAGENET1K_V1`. You can also use `weights=VGG19_Weights.DEFAULT` to get the most up-to-date weights.\n",
      "  warnings.warn(msg)\n",
      "  0%|          | 0/500 [00:00<?, ?it/s]MIOpen(HIP): Warning [SQLiteBase] Missing system database file: gfx1030_14.kdb Performance may degrade. Please follow instructions to install: https://github.com/ROCmSoftwarePlatform/MIOpen#installing-miopen-kernels-package\n",
      "100%|██████████| 500/500 [00:06<00:00, 77.82it/s] \n"
     ]
    },
    {
     "name": "stdout",
     "output_type": "stream",
     "text": [
      "Old PSNR: 21.6774\n",
      "New PSNR: 22.9408\n"
     ]
    },
    {
     "name": "stderr",
     "output_type": "stream",
     "text": [
      "100%|██████████| 500/500 [00:04<00:00, 108.22it/s]\n"
     ]
    },
    {
     "name": "stdout",
     "output_type": "stream",
     "text": [
      "Old PSNR: 19.4812\n",
      "New PSNR: 19.6188\n"
     ]
    },
    {
     "name": "stderr",
     "output_type": "stream",
     "text": [
      "100%|██████████| 500/500 [00:04<00:00, 110.13it/s]\n"
     ]
    },
    {
     "name": "stdout",
     "output_type": "stream",
     "text": [
      "Old PSNR: 22.5921\n",
      "New PSNR: 23.7398\n"
     ]
    },
    {
     "name": "stderr",
     "output_type": "stream",
     "text": [
      "100%|██████████| 500/500 [00:04<00:00, 109.74it/s]\n"
     ]
    },
    {
     "name": "stdout",
     "output_type": "stream",
     "text": [
      "Old PSNR: 21.1178\n",
      "New PSNR: 22.6336\n"
     ]
    },
    {
     "name": "stderr",
     "output_type": "stream",
     "text": [
      "100%|██████████| 500/500 [00:04<00:00, 109.51it/s]\n"
     ]
    },
    {
     "name": "stdout",
     "output_type": "stream",
     "text": [
      "Old PSNR: 22.1213\n",
      "New PSNR: 23.7125\n"
     ]
    },
    {
     "name": "stderr",
     "output_type": "stream",
     "text": [
      "100%|██████████| 500/500 [00:04<00:00, 111.14it/s]\n"
     ]
    },
    {
     "name": "stdout",
     "output_type": "stream",
     "text": [
      "Old PSNR: 20.3147\n",
      "New PSNR: 21.0194\n"
     ]
    },
    {
     "name": "stderr",
     "output_type": "stream",
     "text": [
      "100%|██████████| 500/500 [00:04<00:00, 108.57it/s]\n"
     ]
    },
    {
     "name": "stdout",
     "output_type": "stream",
     "text": [
      "Old PSNR: 23.6077\n",
      "New PSNR: 25.5022\n"
     ]
    },
    {
     "name": "stderr",
     "output_type": "stream",
     "text": [
      "100%|██████████| 500/500 [00:04<00:00, 110.10it/s]\n"
     ]
    },
    {
     "name": "stdout",
     "output_type": "stream",
     "text": [
      "Old PSNR: 21.9920\n",
      "New PSNR: 23.5079\n"
     ]
    },
    {
     "name": "stderr",
     "output_type": "stream",
     "text": [
      "100%|██████████| 500/500 [00:04<00:00, 109.37it/s]\n"
     ]
    },
    {
     "name": "stdout",
     "output_type": "stream",
     "text": [
      "Old PSNR: 21.9971\n",
      "New PSNR: 23.2601\n"
     ]
    },
    {
     "name": "stderr",
     "output_type": "stream",
     "text": [
      "100%|██████████| 500/500 [00:04<00:00, 110.94it/s]\n"
     ]
    },
    {
     "name": "stdout",
     "output_type": "stream",
     "text": [
      "Old PSNR: 22.9207\n",
      "New PSNR: 24.5805\n"
     ]
    },
    {
     "name": "stderr",
     "output_type": "stream",
     "text": [
      "100%|██████████| 500/500 [00:04<00:00, 109.64it/s]\n"
     ]
    },
    {
     "name": "stdout",
     "output_type": "stream",
     "text": [
      "Old PSNR: 20.3381\n",
      "New PSNR: 21.1830\n"
     ]
    },
    {
     "name": "stderr",
     "output_type": "stream",
     "text": [
      "100%|██████████| 500/500 [00:04<00:00, 109.04it/s]\n"
     ]
    },
    {
     "name": "stdout",
     "output_type": "stream",
     "text": [
      "Old PSNR: 22.4662\n",
      "New PSNR: 24.3064\n"
     ]
    },
    {
     "name": "stderr",
     "output_type": "stream",
     "text": [
      "100%|██████████| 500/500 [00:04<00:00, 107.77it/s]\n"
     ]
    },
    {
     "name": "stdout",
     "output_type": "stream",
     "text": [
      "Old PSNR: 19.8645\n",
      "New PSNR: 21.0164\n"
     ]
    },
    {
     "name": "stderr",
     "output_type": "stream",
     "text": [
      "100%|██████████| 500/500 [00:04<00:00, 110.68it/s]\n"
     ]
    },
    {
     "name": "stdout",
     "output_type": "stream",
     "text": [
      "Old PSNR: 20.8610\n",
      "New PSNR: 21.7753\n"
     ]
    },
    {
     "name": "stderr",
     "output_type": "stream",
     "text": [
      "100%|██████████| 500/500 [00:04<00:00, 108.45it/s]\n"
     ]
    },
    {
     "name": "stdout",
     "output_type": "stream",
     "text": [
      "Old PSNR: 20.8656\n",
      "New PSNR: 22.3707\n"
     ]
    },
    {
     "name": "stderr",
     "output_type": "stream",
     "text": [
      "100%|██████████| 500/500 [00:04<00:00, 107.40it/s]\n"
     ]
    },
    {
     "name": "stdout",
     "output_type": "stream",
     "text": [
      "Old PSNR: 20.6389\n",
      "New PSNR: 22.0586\n"
     ]
    },
    {
     "name": "stderr",
     "output_type": "stream",
     "text": [
      "100%|██████████| 500/500 [00:04<00:00, 108.83it/s]\n"
     ]
    },
    {
     "name": "stdout",
     "output_type": "stream",
     "text": [
      "Old PSNR: 22.6854\n",
      "New PSNR: 24.9601\n"
     ]
    },
    {
     "name": "stderr",
     "output_type": "stream",
     "text": [
      "100%|██████████| 500/500 [00:04<00:00, 110.00it/s]\n"
     ]
    },
    {
     "name": "stdout",
     "output_type": "stream",
     "text": [
      "Old PSNR: 20.6433\n",
      "New PSNR: 21.4007\n"
     ]
    },
    {
     "name": "stderr",
     "output_type": "stream",
     "text": [
      "100%|██████████| 500/500 [00:04<00:00, 109.26it/s]\n"
     ]
    },
    {
     "name": "stdout",
     "output_type": "stream",
     "text": [
      "Old PSNR: 18.5786\n",
      "New PSNR: 19.2396\n"
     ]
    },
    {
     "name": "stderr",
     "output_type": "stream",
     "text": [
      "100%|██████████| 500/500 [00:04<00:00, 107.27it/s]\n"
     ]
    },
    {
     "name": "stdout",
     "output_type": "stream",
     "text": [
      "Old PSNR: 21.8347\n",
      "New PSNR: 22.8740\n"
     ]
    },
    {
     "name": "stderr",
     "output_type": "stream",
     "text": [
      "100%|██████████| 500/500 [00:04<00:00, 107.08it/s]\n"
     ]
    },
    {
     "name": "stdout",
     "output_type": "stream",
     "text": [
      "Old PSNR: 21.7896\n",
      "New PSNR: 24.2746\n"
     ]
    },
    {
     "name": "stderr",
     "output_type": "stream",
     "text": [
      "100%|██████████| 500/500 [00:04<00:00, 107.69it/s]\n"
     ]
    },
    {
     "name": "stdout",
     "output_type": "stream",
     "text": [
      "Old PSNR: 21.4010\n",
      "New PSNR: 22.5904\n"
     ]
    },
    {
     "name": "stderr",
     "output_type": "stream",
     "text": [
      "100%|██████████| 500/500 [00:04<00:00, 106.92it/s]\n"
     ]
    },
    {
     "name": "stdout",
     "output_type": "stream",
     "text": [
      "Old PSNR: 21.7639\n",
      "New PSNR: 23.3194\n"
     ]
    },
    {
     "name": "stderr",
     "output_type": "stream",
     "text": [
      "100%|██████████| 500/500 [00:04<00:00, 105.97it/s]\n"
     ]
    },
    {
     "name": "stdout",
     "output_type": "stream",
     "text": [
      "Old PSNR: 21.1942\n",
      "New PSNR: 22.6658\n"
     ]
    },
    {
     "name": "stderr",
     "output_type": "stream",
     "text": [
      "100%|██████████| 500/500 [00:04<00:00, 107.79it/s]\n"
     ]
    },
    {
     "name": "stdout",
     "output_type": "stream",
     "text": [
      "Old PSNR: 21.5654\n",
      "New PSNR: 22.9638\n"
     ]
    },
    {
     "name": "stderr",
     "output_type": "stream",
     "text": [
      "100%|██████████| 500/500 [00:04<00:00, 107.04it/s]\n"
     ]
    },
    {
     "name": "stdout",
     "output_type": "stream",
     "text": [
      "Old PSNR: 21.0902\n",
      "New PSNR: 22.5459\n"
     ]
    },
    {
     "name": "stderr",
     "output_type": "stream",
     "text": [
      "100%|██████████| 500/500 [00:04<00:00, 108.85it/s]\n"
     ]
    },
    {
     "name": "stdout",
     "output_type": "stream",
     "text": [
      "Old PSNR: 21.7957\n",
      "New PSNR: 23.1859\n"
     ]
    },
    {
     "name": "stderr",
     "output_type": "stream",
     "text": [
      "100%|██████████| 500/500 [00:04<00:00, 107.74it/s]\n"
     ]
    },
    {
     "name": "stdout",
     "output_type": "stream",
     "text": [
      "Old PSNR: 21.9462\n",
      "New PSNR: 23.7519\n"
     ]
    },
    {
     "name": "stderr",
     "output_type": "stream",
     "text": [
      "100%|██████████| 500/500 [00:04<00:00, 109.16it/s]\n"
     ]
    },
    {
     "name": "stdout",
     "output_type": "stream",
     "text": [
      "Old PSNR: 21.7369\n",
      "New PSNR: 22.8827\n"
     ]
    },
    {
     "name": "stderr",
     "output_type": "stream",
     "text": [
      "100%|██████████| 500/500 [00:04<00:00, 106.96it/s]\n"
     ]
    },
    {
     "name": "stdout",
     "output_type": "stream",
     "text": [
      "Old PSNR: 22.4151\n",
      "New PSNR: 24.3471\n"
     ]
    },
    {
     "name": "stderr",
     "output_type": "stream",
     "text": [
      "100%|██████████| 500/500 [00:04<00:00, 105.82it/s]\n"
     ]
    },
    {
     "name": "stdout",
     "output_type": "stream",
     "text": [
      "Old PSNR: 20.8565\n",
      "New PSNR: 22.3874\n"
     ]
    },
    {
     "name": "stderr",
     "output_type": "stream",
     "text": [
      "100%|██████████| 500/500 [00:04<00:00, 104.74it/s]\n"
     ]
    },
    {
     "name": "stdout",
     "output_type": "stream",
     "text": [
      "Old PSNR: 21.6583\n",
      "New PSNR: 22.1882\n"
     ]
    },
    {
     "name": "stderr",
     "output_type": "stream",
     "text": [
      "100%|██████████| 500/500 [00:04<00:00, 108.14it/s]\n"
     ]
    },
    {
     "name": "stdout",
     "output_type": "stream",
     "text": [
      "Old PSNR: 20.6073\n",
      "New PSNR: 20.5443\n"
     ]
    },
    {
     "name": "stderr",
     "output_type": "stream",
     "text": [
      "100%|██████████| 500/500 [00:04<00:00, 109.00it/s]\n"
     ]
    },
    {
     "name": "stdout",
     "output_type": "stream",
     "text": [
      "Old PSNR: 22.2486\n",
      "New PSNR: 23.6132\n"
     ]
    },
    {
     "name": "stderr",
     "output_type": "stream",
     "text": [
      "100%|██████████| 500/500 [00:04<00:00, 105.81it/s]\n"
     ]
    },
    {
     "name": "stdout",
     "output_type": "stream",
     "text": [
      "Old PSNR: 21.7227\n",
      "New PSNR: 22.7770\n"
     ]
    },
    {
     "name": "stderr",
     "output_type": "stream",
     "text": [
      " 39%|███▊      | 193/500 [00:01<00:02, 103.42it/s]"
     ]
    }
   ],
   "source": [
    "device, model = create_model()\n",
    "\n",
    "num_epoch = 500\n",
    "alpha = 5\n",
    "beta = 100\n",
    "samples_num = 5\n",
    "\n",
    "real_folder = \"images/t1/real/\"\n",
    "fake_folder = \"images/t1/wgan_gp/\"\n",
    "\n",
    "samples_num = len(os.listdir(real_folder))\n",
    "\n",
    "for img_num in range(0, samples_num):\n",
    "    content_img_filename = real_folder + str(img_num) + '.png'\n",
    "    style_img_filename = fake_folder + str(img_num) + '.png'\n",
    "    perform_style_transfer(\n",
    "        model,\n",
    "        device,\n",
    "        content_img_filename,\n",
    "        style_img_filename,\n",
    "        img_num,\n",
    "        epochs=num_epoch,\n",
    "        alpha=alpha,\n",
    "        beta=beta\n",
    "    )"
   ]
  }
 ],
 "metadata": {
  "kernelspec": {
   "display_name": "Python 3.8.10 ('vanilla')",
   "language": "python",
   "name": "python3"
  },
  "language_info": {
   "codemirror_mode": {
    "name": "ipython",
    "version": 3
   },
   "file_extension": ".py",
   "mimetype": "text/x-python",
   "name": "python",
   "nbconvert_exporter": "python",
   "pygments_lexer": "ipython3",
   "version": "3.8.10"
  },
  "orig_nbformat": 4,
  "vscode": {
   "interpreter": {
    "hash": "e79bffa39ae3b34dd6a67cfb7a86efb7a981f71c16a69aea29c61b44b39f0d36"
   }
  }
 },
 "nbformat": 4,
 "nbformat_minor": 2
}
