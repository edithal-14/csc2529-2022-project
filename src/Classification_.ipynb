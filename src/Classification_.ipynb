{
  "nbformat": 4,
  "nbformat_minor": 0,
  "metadata": {
    "colab": {
      "provenance": []
    },
    "kernelspec": {
      "name": "python3",
      "display_name": "Python 3"
    },
    "language_info": {
      "name": "python"
    }
  },
  "cells": [
    {
      "cell_type": "code",
      "source": [
        "from zipfile import ZipFile as zipfile\n",
        "file_name = 'wgan_gp.zip'\n",
        "\n",
        "with zipfile(file_name, 'r') as zip_file:\n",
        "  zip_file.extractall()"
      ],
      "metadata": {
        "id": "YdTCAaRY3AtK"
      },
      "execution_count": 17,
      "outputs": []
    },
    {
      "cell_type": "code",
      "execution_count": 5,
      "metadata": {
        "id": "nRuK_NBpiJbo"
      },
      "outputs": [],
      "source": [
        "import torch\n",
        "import torchvision\n",
        "from torchvision import transforms\n",
        "from torchvision.datasets import ImageFolder\n",
        "import os\n",
        "import torch.nn as nn\n",
        "from matplotlib import pyplot as plt\n",
        "from torch.utils.data.dataloader import DataLoader\n",
        "from torch.utils.data import random_split\n",
        "\n",
        "device = \"cuda\" if torch.cuda.is_available() else \"cpu\"\n",
        "\n",
        "# ImageFolder class looks for images within folders (a folder for each class)\n",
        "data_real = os.path.abspath(os.getcwd()) + \"/wgan_gp/real\"\n",
        "data_fake = os.path.abspath(os.getcwd()) + \"/wgan_gp/fake\"\n",
        "\n",
        "img_size = 64\n",
        "\n",
        "data_real = ImageFolder(data_real,transform = transforms.Compose([ transforms.Resize((img_size,img_size)),transforms.ToTensor()]))\n",
        "\n",
        "data_fake = ImageFolder(data_fake, transform = transforms.Compose([transforms.Resize((img_size,img_size)), transforms.ToTensor()]))"
      ]
    },
    {
      "cell_type": "code",
      "source": [
        "samples_num = len(data_real)\n",
        "test_num = int(samples_num * 0.3) \n",
        "train_num = samples_num - test_num \n",
        "\n",
        "train_data, test_data = random_split(data_real, [train_num, test_num])\n",
        "\n",
        "validation_num = int(test_num * 0.5) \n",
        "test_num = test_num - validation_num\n",
        "\n",
        "validation_data, test_data = random_split(test_data, [validation_num, test_num])\n",
        "\n",
        "len(train_data), len(validation_data), len(test_data)"
      ],
      "metadata": {
        "colab": {
          "base_uri": "https://localhost:8080/"
        },
        "id": "IWcQ4UMvYUOL",
        "outputId": "4a71626c-abe5-482a-99ed-66145f0bc684"
      },
      "execution_count": 6,
      "outputs": [
        {
          "output_type": "execute_result",
          "data": {
            "text/plain": [
              "(517, 110, 111)"
            ]
          },
          "metadata": {},
          "execution_count": 6
        }
      ]
    },
    {
      "cell_type": "code",
      "source": [
        "batch_size = 256\n",
        "num_workers = 2\n",
        "\n",
        "train_data = DataLoader(train_data, batch_size, shuffle = True, num_workers = num_workers, pin_memory = True)\n",
        "validation_data = DataLoader(validation_data, batch_size*2, num_workers = num_workers, pin_memory = True)\n",
        "test_data = DataLoader(test_data, batch_size, shuffle = True, num_workers = num_workers, pin_memory = True)"
      ],
      "metadata": {
        "id": "ysXariKAn5tl"
      },
      "execution_count": 7,
      "outputs": []
    },
    {
      "cell_type": "code",
      "source": [
        "import torch.nn as nn\n",
        "\n",
        "class ClassificationBase(nn.Module):\n",
        "    \n",
        "    def training_step(self, batch):\n",
        "        images, y = batch \n",
        "        predictions = self(images)\n",
        "        loss = torch.nn.functional.cross_entropy(predictions, y)\n",
        "        return loss\n",
        "    \n",
        "    def validation_step(self, batch):\n",
        "        images, y = batch \n",
        "        predictions = self(images)\n",
        "        loss = torch.nn.functional.cross_entropy(predictions, y)\n",
        "        acc = accuracy(predictions, y)\n",
        "        return {'test_loss': loss.detach(), 'test_accuracy': acc}"
      ],
      "metadata": {
        "id": "VTSBjbfkcmoq"
      },
      "execution_count": 8,
      "outputs": []
    },
    {
      "cell_type": "code",
      "source": [
        "class ClassificationModel(ClassificationBase):\n",
        "    def __init__(self):\n",
        "        super().__init__()\n",
        "        self.network = nn.Sequential(\n",
        "            nn.Conv2d(3, 32, kernel_size = 3, padding = 1),\n",
        "            nn.ReLU(),\n",
        "            nn.Conv2d(32,64, kernel_size = 3, stride = 1, padding = 1),\n",
        "            nn.ReLU(),\n",
        "            nn.MaxPool2d(2,2),\n",
        "        \n",
        "            nn.Conv2d(64, 128, kernel_size = 3, stride = 1, padding = 1),\n",
        "            nn.ReLU(),\n",
        "            nn.Conv2d(128 ,128, kernel_size = 3, stride = 1, padding = 1),\n",
        "            nn.ReLU(),\n",
        "            nn.MaxPool2d(2,2),\n",
        "            \n",
        "            nn.Flatten(),\n",
        "            nn.Linear(32768, 128),\n",
        "            nn.ReLU(),\n",
        "            nn.Linear(128, 128),\n",
        "            nn.ReLU(),\n",
        "            nn.Linear(128,6)\n",
        "        )\n",
        "    \n",
        "    def forward(self, xb):\n",
        "        return self.network(xb)"
      ],
      "metadata": {
        "id": "MB-XSaCXjBXY"
      },
      "execution_count": 9,
      "outputs": []
    },
    {
      "cell_type": "code",
      "source": [
        "def accuracy(predictions, y):\n",
        "    _, preds = torch.max(predictions, dim=1)\n",
        "    return torch.tensor(torch.sum(preds == y).item() / len(preds))\n",
        "  \n",
        "@torch.no_grad()\n",
        "def evaluate(model, val_loader):\n",
        "    model.eval()\n",
        "    outputs = [model.validation_step(batch) for batch in val_loader]\n",
        "    \n",
        "    batch_losses = [x['test_loss'] for x in outputs]\n",
        "    epoch_loss = torch.stack(batch_losses).mean()\n",
        "    batch_accuracies = [x['test_accuracy'] for x in outputs]\n",
        "    epoch_accuracy = torch.stack(batch_accuracies).mean()\n",
        "    return {'test_loss': epoch_loss.item(), 'test_accuracy': epoch_accuracy.item()}\n",
        "\n",
        "  \n",
        "def fit(epochs, lr, model, train_set, test_set, opt_func = torch.optim.SGD):\n",
        "    \n",
        "    losses = []\n",
        "    optimizer = opt_func(model.parameters(),lr)\n",
        "    for epoch in range(epochs):\n",
        "        \n",
        "        model.train()\n",
        "        train_losses = []\n",
        "        for batch in train_set:\n",
        "            loss = model.training_step(batch)\n",
        "            train_losses.append(loss)\n",
        "            loss.backward()\n",
        "            optimizer.step()\n",
        "            optimizer.zero_grad()\n",
        "            \n",
        "        result = evaluate(model, test_set)\n",
        "        result['train_loss'] = torch.stack(train_losses).mean().item()\n",
        "        losses.append(result)\n",
        "\n",
        "        print(\"Epoch: {}, train loss: {:.5f}, test loss: {:.5f}, test accuracy: {:.5f}\".format(\n",
        "            epoch + 1, result['train_loss'], result['test_loss'], result['test_accuracy']))\n",
        "    \n",
        "    return losses"
      ],
      "metadata": {
        "id": "8AHuGl1sxY_v"
      },
      "execution_count": 10,
      "outputs": []
    },
    {
      "cell_type": "code",
      "source": [
        "num_epochs = 20\n",
        "opt_func = torch.optim.Adam\n",
        "lr = 0.001\n",
        "\n",
        "model = ClassificationModel()\n",
        "\n",
        "losses = fit(num_epochs, lr, model, train_data, validation_data, opt_func)"
      ],
      "metadata": {
        "id": "AhtUSpZoV_Ta",
        "colab": {
          "base_uri": "https://localhost:8080/"
        },
        "outputId": "75318e38-ed15-4572-b621-953febefbdd2"
      },
      "execution_count": null,
      "outputs": [
        {
          "output_type": "stream",
          "name": "stdout",
          "text": [
            "Epoch: 0, train loss: 1.40897, validation loss: 1.69203, validation accuracy: 0.52727\n",
            "Epoch: 1, train loss: 1.12306, validation loss: 1.06009, validation accuracy: 0.47273\n",
            "Epoch: 2, train loss: 0.92605, validation loss: 0.97859, validation accuracy: 0.47273\n",
            "Epoch: 3, train loss: 0.92322, validation loss: 0.78602, validation accuracy: 0.47273\n",
            "Epoch: 4, train loss: 0.74068, validation loss: 0.69791, validation accuracy: 0.52727\n",
            "Epoch: 5, train loss: 0.75632, validation loss: 0.71017, validation accuracy: 0.52727\n",
            "Epoch: 6, train loss: 0.69692, validation loss: 0.68076, validation accuracy: 0.47273\n",
            "Epoch: 7, train loss: 0.63401, validation loss: 0.78334, validation accuracy: 0.47273\n",
            "Epoch: 8, train loss: 0.75328, validation loss: 0.58378, validation accuracy: 0.77273\n",
            "Epoch: 9, train loss: 0.73257, validation loss: 0.65002, validation accuracy: 0.52727\n",
            "Epoch: 10, train loss: 0.63809, validation loss: 0.59787, validation accuracy: 0.82727\n",
            "Epoch: 11, train loss: 0.61409, validation loss: 0.60911, validation accuracy: 0.77273\n",
            "Epoch: 12, train loss: 0.54081, validation loss: 0.50797, validation accuracy: 0.82727\n",
            "Epoch: 13, train loss: 0.50367, validation loss: 0.41116, validation accuracy: 0.85455\n",
            "Epoch: 14, train loss: 0.39210, validation loss: 0.35051, validation accuracy: 0.87273\n",
            "Epoch: 15, train loss: 0.27394, validation loss: 0.39386, validation accuracy: 0.84545\n",
            "Epoch: 16, train loss: 0.41405, validation loss: 0.33832, validation accuracy: 0.85455\n",
            "Epoch: 17, train loss: 0.29120, validation loss: 0.47589, validation accuracy: 0.81818\n",
            "Epoch: 18, train loss: 0.29156, validation loss: 0.59908, validation accuracy: 0.74545\n",
            "Epoch: 19, train loss: 0.58926, validation loss: 0.52479, validation accuracy: 0.81818\n"
          ]
        }
      ]
    },
    {
      "cell_type": "code",
      "source": [
        "def plot_losses_per_epoch(losses):\n",
        "    train_losses = [x.get('train_loss') for x in losses]\n",
        "    val_losses = [x['test_loss'] for x in losses]\n",
        "    plt.plot(train_losses, '-bx')\n",
        "    plt.plot(val_losses, '-rx')\n",
        "    plt.xlabel('Epoch')\n",
        "    plt.ylabel('L')\n",
        "    plt.legend(['Training', 'Test'])\n",
        "\n",
        "plot_losses_per_epoch(losses)"
      ],
      "metadata": {
        "id": "UBBxLmYmx0ON",
        "colab": {
          "base_uri": "https://localhost:8080/",
          "height": 279
        },
        "outputId": "fa7b62ed-bb8d-419d-9705-d4361b834950"
      },
      "execution_count": 15,
      "outputs": [
        {
          "output_type": "display_data",
          "data": {
            "text/plain": [
              "<Figure size 432x288 with 1 Axes>"
            ],
            "image/png": "[encoded data removed]"
          },
          "metadata": {
            "needs_background": "light"
          }
        }
      ]
    },
    {
      "cell_type": "code",
      "source": [
        "num_epochs = 15\n",
        "opt_func = torch.optim.Adam\n",
        "lr = 0.001\n",
        "\n",
        "model = ClassificationModel()\n",
        "\n",
        "losses = fit(num_epochs, lr, model, train_data, validation_data, opt_func)"
      ],
      "metadata": {
        "colab": {
          "base_uri": "https://localhost:8080/"
        },
        "id": "W5DKzD9XYP3P",
        "outputId": "37e85cec-5885-4c03-c389-175846eac4d3"
      },
      "execution_count": null,
      "outputs": [
        {
          "output_type": "stream",
          "name": "stdout",
          "text": [
            "Epoch: 0, train loss: 1.67930, validation loss: 0.78975, validation accuracy: 0.52727\n",
            "Epoch: 1, train loss: 0.61379, validation loss: 4.76697, validation accuracy: 0.47273\n",
            "Epoch: 2, train loss: 2.25837, validation loss: 1.08671, validation accuracy: 0.52727\n",
            "Epoch: 3, train loss: 0.76441, validation loss: 0.71162, validation accuracy: 0.52727\n",
            "Epoch: 4, train loss: 0.77359, validation loss: 0.84629, validation accuracy: 0.52727\n",
            "Epoch: 5, train loss: 0.80137, validation loss: 0.69855, validation accuracy: 0.52727\n",
            "Epoch: 6, train loss: 0.69384, validation loss: 0.62277, validation accuracy: 0.52727\n",
            "Epoch: 7, train loss: 0.61781, validation loss: 0.51102, validation accuracy: 0.85455\n",
            "Epoch: 8, train loss: 0.44456, validation loss: 0.42877, validation accuracy: 0.81818\n",
            "Epoch: 9, train loss: 0.33489, validation loss: 0.33632, validation accuracy: 0.86364\n",
            "Epoch: 10, train loss: 0.43463, validation loss: 0.31434, validation accuracy: 0.84545\n",
            "Epoch: 11, train loss: 0.23295, validation loss: 0.52209, validation accuracy: 0.75455\n",
            "Epoch: 12, train loss: 0.24925, validation loss: 0.53246, validation accuracy: 0.82727\n",
            "Epoch: 13, train loss: 0.64737, validation loss: 1.56884, validation accuracy: 0.50000\n",
            "Epoch: 14, train loss: 1.00168, validation loss: 0.33803, validation accuracy: 0.87273\n"
          ]
        }
      ]
    },
    {
      "cell_type": "code",
      "source": [
        "losses = evaluate(model, validation_data)\n",
        "print(losses)"
      ],
      "metadata": {
        "colab": {
          "base_uri": "https://localhost:8080/"
        },
        "id": "TIyQTLLBuLhL",
        "outputId": "75e03c57-9606-4bd7-e12c-adae33645645"
      },
      "execution_count": null,
      "outputs": [
        {
          "output_type": "stream",
          "name": "stdout",
          "text": [
            "{'validation_loss': 0.3380294144153595, 'validation_accuracy': 0.8727272748947144}\n"
          ]
        }
      ]
    },
    {
      "cell_type": "code",
      "source": [
        "losses = evaluate(model, test_data)\n",
        "print(losses)"
      ],
      "metadata": {
        "colab": {
          "base_uri": "https://localhost:8080/"
        },
        "id": "HxazVtQtuoCB",
        "outputId": "8d4225a7-9a50-442c-f055-899b4fc8ff29"
      },
      "execution_count": null,
      "outputs": [
        {
          "output_type": "stream",
          "name": "stdout",
          "text": [
            "{'validation_loss': 0.2717888355255127, 'validation_accuracy': 0.9009009003639221}\n"
          ]
        }
      ]
    },
    {
      "cell_type": "markdown",
      "source": [
        "**Case 1:**\n",
        "\n",
        "Train dataset: 80% Real MRI Scans\n",
        "\n",
        "Test dataset: 20% Real MRI Scans"
      ],
      "metadata": {
        "id": "Qv0bGxTYvFY7"
      }
    },
    {
      "cell_type": "code",
      "source": [
        "test_num = int(samples_num * 0.2) \n",
        "train_num = samples_num - test_num \n",
        "\n",
        "train_data, test_data = random_split(data_real, [train_num, test_num])\n",
        "\n",
        "train_data = DataLoader(train_data, batch_size, shuffle = True, num_workers = num_workers, pin_memory = True)\n",
        "test_data = DataLoader(test_data, batch_size, shuffle = True, num_workers = num_workers, pin_memory = True)\n",
        "\n",
        "num_epochs = 15\n",
        "opt_func = torch.optim.Adam\n",
        "lr = 0.001\n",
        "\n",
        "model = ClassificationModel()\n",
        "\n",
        "losses = fit(num_epochs, lr, model, train_data, test_data, opt_func)"
      ],
      "metadata": {
        "colab": {
          "base_uri": "https://localhost:8080/"
        },
        "id": "0s5acz1GwYhQ",
        "outputId": "28e79de7-8da9-4d35-d785-a72c0dc7c865"
      },
      "execution_count": null,
      "outputs": [
        {
          "output_type": "stream",
          "name": "stdout",
          "text": [
            "Epoch: 1, train loss: 1.70442, test loss: 0.84412, test accuracy: 0.52381\n",
            "Epoch: 2, train loss: 0.63126, test loss: 2.25293, test accuracy: 0.52381\n",
            "Epoch: 3, train loss: 2.20088, test loss: 0.82480, test accuracy: 0.59184\n",
            "Epoch: 4, train loss: 1.09902, test loss: 0.52907, test accuracy: 0.64626\n",
            "Epoch: 5, train loss: 0.58163, test loss: 0.71291, test accuracy: 0.47619\n",
            "Epoch: 6, train loss: 0.73286, test loss: 0.77752, test accuracy: 0.47619\n",
            "Epoch: 7, train loss: 0.73801, test loss: 0.64529, test accuracy: 0.88435\n",
            "Epoch: 8, train loss: 0.57617, test loss: 0.48108, test accuracy: 0.76871\n",
            "Epoch: 9, train loss: 0.46881, test loss: 0.36326, test accuracy: 0.87075\n",
            "Epoch: 10, train loss: 0.34449, test loss: 0.34099, test accuracy: 0.87755\n",
            "Epoch: 11, train loss: 0.28874, test loss: 0.25470, test accuracy: 0.87755\n",
            "Epoch: 12, train loss: 0.28392, test loss: 0.31862, test accuracy: 0.88435\n",
            "Epoch: 13, train loss: 0.24488, test loss: 0.26766, test accuracy: 0.89796\n",
            "Epoch: 14, train loss: 0.38859, test loss: 0.28686, test accuracy: 0.89116\n",
            "Epoch: 15, train loss: 0.32094, test loss: 0.30493, test accuracy: 0.90476\n"
          ]
        }
      ]
    },
    {
      "cell_type": "code",
      "source": [
        "plot_losses_per_epoch(losses)"
      ],
      "metadata": {
        "colab": {
          "base_uri": "https://localhost:8080/",
          "height": 279
        },
        "id": "gsDH8foD5lgv",
        "outputId": "408c7ff6-e30b-48a7-aa17-de2107daf462"
      },
      "execution_count": null,
      "outputs": [
        {
          "output_type": "display_data",
          "data": {
            "text/plain": [
              "<Figure size 432x288 with 1 Axes>"
            ],
            "image/png": "[encoded data removed]"
          },
          "metadata": {
            "needs_background": "light"
          }
        }
      ]
    },
    {
      "cell_type": "markdown",
      "source": [
        "Using 80% of the real MRI scnas as the training set and 20% of the real scans as the test set produce ≈ **90%** accuracy for 15 epochs"
      ],
      "metadata": {
        "id": "H9Xw5j9EWfn5"
      }
    },
    {
      "cell_type": "markdown",
      "source": [
        "**Case 2:**\n",
        "\n",
        "Train dataset: 80% Real MRI Scans + 100% synthetic MRI Scans generated using WGAN GP\n",
        "\n",
        "Test dataset: 20% Real MRI Scans"
      ],
      "metadata": {
        "id": "sGXddfXT5pA_"
      }
    },
    {
      "cell_type": "code",
      "source": [
        "test_num = int(samples_num * 0.2) \n",
        "train_num = samples_num - test_num \n",
        "\n",
        "train_data, test_data = random_split(data_real, [train_num, test_num])\n",
        "train_data += data_fake\n",
        "\n",
        "train_data = DataLoader(train_data, batch_size, shuffle = True, num_workers = num_workers, pin_memory = True)\n",
        "test_data = DataLoader(test_data, batch_size, shuffle = True, num_workers = num_workers, pin_memory = True)\n",
        "\n",
        "model = ClassificationModel()\n",
        "\n",
        "losses = fit(num_epochs, lr, model, train_data, test_data, opt_func)\n",
        "\n",
        "plot_losses_per_epoch(losses)"
      ],
      "metadata": {
        "colab": {
          "base_uri": "https://localhost:8080/",
          "height": 547
        },
        "id": "o7_jMT0X5oGz",
        "outputId": "33179784-8470-4889-d554-2d6049fb23d8"
      },
      "execution_count": null,
      "outputs": [
        {
          "output_type": "stream",
          "name": "stdout",
          "text": [
            "Epoch: 1, train loss: 1.26980, test loss: 0.77957, test accuracy: 0.43537\n",
            "Epoch: 2, train loss: 0.74731, test loss: 0.65378, test accuracy: 0.56463\n",
            "Epoch: 3, train loss: 0.68431, test loss: 0.62171, test accuracy: 0.61905\n",
            "Epoch: 4, train loss: 0.54998, test loss: 0.43399, test accuracy: 0.80952\n",
            "Epoch: 5, train loss: 0.30477, test loss: 0.46693, test accuracy: 0.81633\n",
            "Epoch: 6, train loss: 0.41473, test loss: 1.05570, test accuracy: 0.61905\n",
            "Epoch: 7, train loss: 0.44665, test loss: 0.40236, test accuracy: 0.87075\n",
            "Epoch: 8, train loss: 0.31791, test loss: 0.39224, test accuracy: 0.81633\n",
            "Epoch: 9, train loss: 0.28198, test loss: 0.29913, test accuracy: 0.85714\n",
            "Epoch: 10, train loss: 0.23909, test loss: 0.31301, test accuracy: 0.88435\n",
            "Epoch: 11, train loss: 0.23499, test loss: 0.31065, test accuracy: 0.84354\n",
            "Epoch: 12, train loss: 0.24475, test loss: 0.34068, test accuracy: 0.83673\n",
            "Epoch: 13, train loss: 0.22703, test loss: 0.31846, test accuracy: 0.89116\n",
            "Epoch: 14, train loss: 0.23729, test loss: 0.31269, test accuracy: 0.85714\n",
            "Epoch: 15, train loss: 0.24021, test loss: 0.31487, test accuracy: 0.86395\n"
          ]
        },
        {
          "output_type": "display_data",
          "data": {
            "text/plain": [
              "<Figure size 432x288 with 1 Axes>"
            ],
            "image/png": "[encoded data removed]"
          },
          "metadata": {
            "needs_background": "light"
          }
        }
      ]
    },
    {
      "cell_type": "markdown",
      "source": [
        "Using 80% of the real MRI scnas + 100% of the synthetic data as the training set and 20% of the real scans as the test set produce ≈ **86%** accuracy for 15 epochs\n",
        "\n",
        "We would expect an improved performance, however, we can also notice that the loss on the training set in this case is lower than the training lose without adding the synthetic dataset. This may suggest that the model started to overfit the training set which increased its generaliztation error.\n"
      ],
      "metadata": {
        "id": "-TPnixFzXjhI"
      }
    },
    {
      "cell_type": "markdown",
      "source": [
        "**Case 3:**\n",
        "\n",
        "\n",
        "Train dataset: 100% Synthetic MRI Scans generated using WGAN GP\n",
        "\n",
        "Test dataset: 100% Real MRI Scans"
      ],
      "metadata": {
        "id": "ggdF0Vwd6yXp"
      }
    },
    {
      "cell_type": "code",
      "source": [
        "train_data = DataLoader(data_fake, batch_size, shuffle = True, num_workers = num_workers, pin_memory = True)\n",
        "test_data = DataLoader(data_real, batch_size, shuffle = True, num_workers = num_workers, pin_memory = True)\n",
        "\n",
        "model = ClassificationModel()\n",
        "\n",
        "losses = fit(num_epochs, lr, model, train_data, test_data, opt_func)\n",
        "\n",
        "plot_losses_per_epoch(losses)"
      ],
      "metadata": {
        "colab": {
          "base_uri": "https://localhost:8080/",
          "height": 547
        },
        "id": "rqlCk41X67Qu",
        "outputId": "c567ed3c-18ad-4f0f-f7e3-e77bede3571d"
      },
      "execution_count": null,
      "outputs": [
        {
          "output_type": "stream",
          "name": "stdout",
          "text": [
            "Epoch: 1, train loss: 1.46338, test loss: 1.21742, test accuracy: 0.49965\n",
            "Epoch: 2, train loss: 0.91901, test loss: 0.78548, test accuracy: 0.49948\n",
            "Epoch: 3, train loss: 0.74692, test loss: 0.69843, test accuracy: 0.50121\n",
            "Epoch: 4, train loss: 0.69533, test loss: 0.67501, test accuracy: 0.49948\n",
            "Epoch: 5, train loss: 0.64652, test loss: 0.64786, test accuracy: 0.50052\n",
            "Epoch: 6, train loss: 0.62040, test loss: 0.56659, test accuracy: 0.64260\n",
            "Epoch: 7, train loss: 0.54042, test loss: 0.44717, test accuracy: 0.81262\n",
            "Epoch: 8, train loss: 0.41289, test loss: 0.32335, test accuracy: 0.89837\n",
            "Epoch: 9, train loss: 0.35235, test loss: 0.45545, test accuracy: 0.80428\n",
            "Epoch: 10, train loss: 0.47318, test loss: 0.31053, test accuracy: 0.88500\n",
            "Epoch: 11, train loss: 0.31038, test loss: 0.35089, test accuracy: 0.86374\n",
            "Epoch: 12, train loss: 0.27051, test loss: 0.30039, test accuracy: 0.89013\n",
            "Epoch: 13, train loss: 0.24405, test loss: 0.30743, test accuracy: 0.87363\n",
            "Epoch: 14, train loss: 0.25131, test loss: 0.26366, test accuracy: 0.90392\n",
            "Epoch: 15, train loss: 0.22964, test loss: 0.27461, test accuracy: 0.88110\n"
          ]
        },
        {
          "output_type": "display_data",
          "data": {
            "text/plain": [
              "<Figure size 432x288 with 1 Axes>"
            ],
            "image/png": "[encoded data removed]"
          },
          "metadata": {
            "needs_background": "light"
          }
        }
      ]
    },
    {
      "cell_type": "markdown",
      "source": [
        "Using 100% of the synthetic MRI scnas as the training set and 100% of the real scans produce ≈ **88%** accuracy for 15 epochs. \n",
        "\n",
        "Accuracy was around 90% in the first case, which is only slightly higher than the accuracy of the model that was trained on synthetic data only.\n",
        "\n",
        "This proves that synthetic data is able to train models with comparable performance to models trained on real data.\n",
        "\n",
        "(Note: 100% of the synthetic samples were used in this case, which is 20% higher than the amount of data used in case 1. At the same time, the test set is 5 times larger in this case, meaning that generalization was tested more than the model's generalization in case 1)."
      ],
      "metadata": {
        "id": "ClwHMEvoYoJF"
      }
    },
    {
      "cell_type": "markdown",
      "source": [
        "**Case 4:**\n",
        "\n",
        "Train dataset: 50% Real MRI Scans + 50% synthetic MRI Scans generated using WGAN GP\n",
        "\n",
        "Test dataset: 50% Real MRI Scans"
      ],
      "metadata": {
        "id": "k0TdxWRaDR92"
      }
    },
    {
      "cell_type": "code",
      "source": [
        "test_num = int(samples_num * 0.5) \n",
        "train_num = samples_num - test_num \n",
        "\n",
        "train_data_real, test_data_real = random_split(data_real, [train_num, test_num])\n",
        "train_data_fake, _ = random_split(data_fake, [train_num, test_num])\n",
        "\n",
        "train_data = train_data_real + train_data_fake\n",
        "\n",
        "train_data = DataLoader(train_data, batch_size, shuffle = True, num_workers = num_workers, pin_memory = True)\n",
        "test_data = DataLoader(test_data_real, batch_size, shuffle = True, num_workers = num_workers, pin_memory = True)\n",
        "\n",
        "model = ClassificationModel()\n",
        "\n",
        "losses = fit(num_epochs, lr, model, train_data, test_data, opt_func)\n",
        "\n",
        "plot_losses_per_epoch(losses)"
      ],
      "metadata": {
        "colab": {
          "base_uri": "https://localhost:8080/",
          "height": 547
        },
        "id": "fPbCUSn4DMPW",
        "outputId": "5e36e003-1901-4932-b660-3fcf213c1505"
      },
      "execution_count": null,
      "outputs": [
        {
          "output_type": "stream",
          "name": "stdout",
          "text": [
            "Epoch: 1, train loss: 1.60275, test loss: 0.76923, test accuracy: 0.48308\n",
            "Epoch: 2, train loss: 0.95506, test loss: 0.92785, test accuracy: 0.48802\n",
            "Epoch: 3, train loss: 0.75782, test loss: 0.65948, test accuracy: 0.51939\n",
            "Epoch: 4, train loss: 0.69111, test loss: 0.68738, test accuracy: 0.50703\n",
            "Epoch: 5, train loss: 0.67367, test loss: 0.61550, test accuracy: 0.65647\n",
            "Epoch: 6, train loss: 0.58904, test loss: 0.52525, test accuracy: 0.88089\n",
            "Epoch: 7, train loss: 0.47584, test loss: 0.39211, test accuracy: 0.85251\n",
            "Epoch: 8, train loss: 0.36279, test loss: 0.47911, test accuracy: 0.79770\n",
            "Epoch: 9, train loss: 0.33901, test loss: 0.28616, test accuracy: 0.89273\n",
            "Epoch: 10, train loss: 0.26438, test loss: 0.54173, test accuracy: 0.80448\n",
            "Epoch: 11, train loss: 0.42465, test loss: 0.31877, test accuracy: 0.88285\n",
            "Epoch: 12, train loss: 0.38654, test loss: 0.63354, test accuracy: 0.78886\n",
            "Epoch: 13, train loss: 0.45230, test loss: 0.35496, test accuracy: 0.87308\n",
            "Epoch: 14, train loss: 0.29802, test loss: 0.29749, test accuracy: 0.87503\n",
            "Epoch: 15, train loss: 0.27556, test loss: 0.29687, test accuracy: 0.88727\n"
          ]
        },
        {
          "output_type": "display_data",
          "data": {
            "text/plain": [
              "<Figure size 432x288 with 1 Axes>"
            ],
            "image/png": "[encoded data removed]"
          },
          "metadata": {
            "needs_background": "light"
          }
        }
      ]
    },
    {
      "cell_type": "markdown",
      "source": [
        "This case was performed to test the assumption around overfitting of case 2. Here, 50% of the training sampels come from the real MRI scans, and 50% come from the synthetic images. The test set comes from the other 50% of the real scans. The model produced ≈ **89%** accuracy, which may assert that the model was actually overfitting the data. With further analysis, the model may be able to produce a better accuracy compared to the case when using only real MRI scans."
      ],
      "metadata": {
        "id": "Zo-C3ysga2rt"
      }
    },
    {
      "cell_type": "markdown",
      "source": [
        "**Case 5:**\n",
        "\n",
        "Train dataset: 100% Synthetic MRI Scans generated using DCGAN\n",
        "\n",
        "Test dataset: 100% Real MRI Scans"
      ],
      "metadata": {
        "id": "XC1jJNcGdHWx"
      }
    },
    {
      "cell_type": "code",
      "source": [
        "from zipfile import ZipFile as zipfile\n",
        "file_name = 'dcgan.zip'\n",
        "\n",
        "with zipfile(file_name, 'r') as zip_file:\n",
        "  zip_file.extractall()"
      ],
      "metadata": {
        "id": "YKmh9OZAKOKC"
      },
      "execution_count": 18,
      "outputs": []
    },
    {
      "cell_type": "code",
      "source": [
        "data_real = os.path.abspath(os.getcwd()) + \"/dcgan/real\"\n",
        "data_fake = os.path.abspath(os.getcwd()) + \"/dcgan/fake\"\n",
        "\n",
        "img_size = 64\n",
        "\n",
        "data_real = ImageFolder(data_real,transform = transforms.Compose([ transforms.Resize((img_size,img_size)),transforms.ToTensor()]))\n",
        "\n",
        "data_fake = ImageFolder(data_fake, transform = transforms.Compose([transforms.Resize((img_size,img_size)), transforms.ToTensor()]))"
      ],
      "metadata": {
        "id": "5oy18O7lKXTM"
      },
      "execution_count": 12,
      "outputs": []
    },
    {
      "cell_type": "code",
      "source": [
        "train_data = DataLoader(data_fake, batch_size, shuffle = True, num_workers = num_workers, pin_memory = True)\n",
        "test_data = DataLoader(data_real, batch_size, shuffle = True, num_workers = num_workers, pin_memory = True)\n",
        "\n",
        "num_epochs = 15\n",
        "opt_func = torch.optim.Adam\n",
        "lr = 0.001\n",
        "\n",
        "model = ClassificationModel()\n",
        "\n",
        "losses = fit(num_epochs, lr, model, train_data, test_data, opt_func)\n",
        "\n",
        "plot_losses_per_epoch(losses)"
      ],
      "metadata": {
        "colab": {
          "base_uri": "https://localhost:8080/",
          "height": 550
        },
        "id": "_k1u9sQRM-8C",
        "outputId": "c96a5b74-66e8-4830-d576-a003b9503fd4"
      },
      "execution_count": 16,
      "outputs": [
        {
          "output_type": "stream",
          "name": "stdout",
          "text": [
            "Epoch: 1, train loss: 1.54562, test loss: 0.87390, test accuracy: 0.50086\n",
            "Epoch: 2, train loss: 0.78370, test loss: 0.78041, test accuracy: 0.50328\n",
            "Epoch: 3, train loss: 0.70895, test loss: 0.75178, test accuracy: 0.49879\n",
            "Epoch: 4, train loss: 0.67148, test loss: 0.67573, test accuracy: 0.50190\n",
            "Epoch: 5, train loss: 0.62515, test loss: 0.59423, test accuracy: 0.56240\n",
            "Epoch: 6, train loss: 0.55320, test loss: 0.50114, test accuracy: 0.87311\n",
            "Epoch: 7, train loss: 0.45939, test loss: 0.44653, test accuracy: 0.76489\n",
            "Epoch: 8, train loss: 0.37347, test loss: 0.30276, test accuracy: 0.89689\n",
            "Epoch: 9, train loss: 0.27146, test loss: 0.29463, test accuracy: 0.89099\n",
            "Epoch: 10, train loss: 0.27569, test loss: 0.27873, test accuracy: 0.89672\n",
            "Epoch: 11, train loss: 0.26397, test loss: 0.30619, test accuracy: 0.88274\n",
            "Epoch: 12, train loss: 0.26244, test loss: 0.27571, test accuracy: 0.90097\n",
            "Epoch: 13, train loss: 0.24474, test loss: 0.26825, test accuracy: 0.89576\n",
            "Epoch: 14, train loss: 0.23755, test loss: 0.25771, test accuracy: 0.89429\n",
            "Epoch: 15, train loss: 0.23398, test loss: 0.25804, test accuracy: 0.90166\n"
          ]
        },
        {
          "output_type": "display_data",
          "data": {
            "text/plain": [
              "<Figure size 432x288 with 1 Axes>"
            ],
            "image/png": "[encoded data removed]"
          },
          "metadata": {
            "needs_background": "light"
          }
        }
      ]
    },
    {
      "cell_type": "markdown",
      "source": [
        "Using 100% of the synthetic data generated by DCGAN as the training set and 100% of the real scans as the test set produce **≈ 90%** accuracy for 15 epochs.\n",
        "\n",
        "The accuracies generally were slightly higher than the accuracy of the models trained on the synthetic images generated by WGAN GP."
      ],
      "metadata": {
        "id": "AyYk3Oq1dg9c"
      }
    }
  ]
}