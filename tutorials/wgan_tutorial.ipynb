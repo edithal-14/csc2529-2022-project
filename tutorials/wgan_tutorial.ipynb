{
 "cells": [
  {
   "cell_type": "code",
   "execution_count": 1,
   "metadata": {},
   "outputs": [],
   "source": [
    "import torch\n",
    "import torch.optim as optim\n",
    "import torch.nn as nn\n",
    "import torch.nn.functional as F\n",
    "import torchvision\n",
    "import torchvision.transforms as transforms\n",
    "import matplotlib.pyplot as plt\n",
    "from tqdm import tqdm\n",
    "import numpy as np"
   ]
  },
  {
   "cell_type": "code",
   "execution_count": 2,
   "metadata": {},
   "outputs": [],
   "source": [
    "# Critic model configuration\n",
    "clipping_param = 0.01\n",
    "\n",
    "# Training configuration\n",
    "device = torch.device(\"cuda:0\")\n",
    "batch_size = 64\n",
    "real_label = -1.0\n",
    "fake_label = 1.0\n",
    "n_epochs = 10\n",
    "n_critic = 5\n",
    "\n",
    "# Loss weight for gradient penalty\n",
    "use_gp = True\n",
    "lambda_gp = 10\n",
    "\n",
    "# Dataset configuration\n",
    "image_size = 28\n",
    "num_workers = 16"
   ]
  },
  {
   "cell_type": "code",
   "execution_count": 3,
   "metadata": {},
   "outputs": [],
   "source": [
    "def weight_init_critic(m):\n",
    "    if isinstance(m, nn.Conv2d):\n",
    "        nn.init.normal_(m.weight, 0.0, 0.02)"
   ]
  },
  {
   "cell_type": "code",
   "execution_count": 4,
   "metadata": {},
   "outputs": [],
   "source": [
    "class Critic(nn.Module):\n",
    "    def __init__(self, use_gp=False) -> None:\n",
    "        super(Critic, self).__init__()\n",
    "        # input_shape = 28\n",
    "        if use_gp:\n",
    "            self.main = nn.Sequential(\n",
    "                # input: 1 x 28 x 28\n",
    "                nn.Conv2d(1, 8, 4, stride=2, padding=3),\n",
    "                nn.LeakyReLU(0.2),\n",
    "                # input: 8 x 16 x 16\n",
    "                nn.Conv2d(8, 16, 4, stride=2, padding=1),\n",
    "                nn.LeakyReLU(0.2),\n",
    "                # input: 16 x 8 x 8\n",
    "                nn.Conv2d(16, 32, 4, stride=2, padding=1),\n",
    "                nn.LeakyReLU(0.2),\n",
    "                # input: 32 x 4 x 4\n",
    "                nn.Conv2d(32, 1, 4, stride=1, padding=0),\n",
    "                # output: 1 x 1 x 1\n",
    "            )\n",
    "        else:\n",
    "            self.main = nn.Sequential(\n",
    "                # input: 1 x 28 x 28\n",
    "                nn.Conv2d(1, 8, 4, stride=2, padding=3),\n",
    "                nn.BatchNorm2d(8),\n",
    "                nn.LeakyReLU(0.2),\n",
    "                # input: 8 x 16 x 16\n",
    "                nn.Conv2d(8, 16, 4, stride=2, padding=1),\n",
    "                nn.BatchNorm2d(16),\n",
    "                nn.LeakyReLU(0.2),\n",
    "                # input: 16 x 8 x 8\n",
    "                nn.Conv2d(16, 32, 4, stride=2, padding=1),\n",
    "                nn.BatchNorm2d(32),\n",
    "                nn.LeakyReLU(0.2),\n",
    "                # input: 32 x 4 x 4\n",
    "                nn.Conv2d(32, 1, 4, stride=1, padding=0),\n",
    "                # output: 1 x 1 x 1\n",
    "            )\n",
    "    \n",
    "    def forward(self, input):\n",
    "        return self.main(input)"
   ]
  },
  {
   "cell_type": "code",
   "execution_count": 5,
   "metadata": {},
   "outputs": [
    {
     "data": {
      "text/plain": [
       "Critic(\n",
       "  (main): Sequential(\n",
       "    (0): Conv2d(1, 8, kernel_size=(4, 4), stride=(2, 2), padding=(3, 3))\n",
       "    (1): LeakyReLU(negative_slope=0.2)\n",
       "    (2): Conv2d(8, 16, kernel_size=(4, 4), stride=(2, 2), padding=(1, 1))\n",
       "    (3): LeakyReLU(negative_slope=0.2)\n",
       "    (4): Conv2d(16, 32, kernel_size=(4, 4), stride=(2, 2), padding=(1, 1))\n",
       "    (5): LeakyReLU(negative_slope=0.2)\n",
       "    (6): Conv2d(32, 1, kernel_size=(4, 4), stride=(1, 1))\n",
       "  )\n",
       ")"
      ]
     },
     "execution_count": 5,
     "metadata": {},
     "output_type": "execute_result"
    }
   ],
   "source": [
    "critic_model = Critic(use_gp=use_gp).to(device)\n",
    "critic_model.apply(weight_init_critic)"
   ]
  },
  {
   "cell_type": "code",
   "execution_count": 6,
   "metadata": {},
   "outputs": [],
   "source": [
    "def weight_init_generator(m):\n",
    "    if isinstance(m, nn.ConvTranspose2d):\n",
    "        nn.init.normal_(m.weight, 0.0, 0.02)"
   ]
  },
  {
   "cell_type": "code",
   "execution_count": 7,
   "metadata": {},
   "outputs": [],
   "source": [
    "class Generator(nn.Module):\n",
    "    def __init__(self) -> None:\n",
    "        super(Generator, self).__init__()\n",
    "        self.main = nn.Sequential(\n",
    "            # input: 100 x 1 x 1\n",
    "            nn.ConvTranspose2d(100, 64, 4, stride=1, padding=0),\n",
    "            nn.BatchNorm2d(64),\n",
    "            nn.LeakyReLU(0.2),\n",
    "            # input: 64 x 4 x 4\n",
    "            nn.ConvTranspose2d(64, 32, 4, 2, 1),\n",
    "            nn.BatchNorm2d(32),\n",
    "            nn.LeakyReLU(0.2),\n",
    "            # input: 32 x 8 x 8\n",
    "            nn.ConvTranspose2d(32, 16, 4, 2, 1),\n",
    "            nn.BatchNorm2d(16),\n",
    "            nn.LeakyReLU(0.2),\n",
    "            # input: 16 x 16 x 16\n",
    "            nn.ConvTranspose2d(16, 1, 4, 2, 3),\n",
    "            nn.Tanh()\n",
    "            # output: 1 x 28 x 28\n",
    "        )\n",
    "    \n",
    "    def forward(self, input):\n",
    "        return self.main(input)"
   ]
  },
  {
   "cell_type": "code",
   "execution_count": 8,
   "metadata": {},
   "outputs": [
    {
     "data": {
      "text/plain": [
       "Generator(\n",
       "  (main): Sequential(\n",
       "    (0): ConvTranspose2d(100, 64, kernel_size=(4, 4), stride=(1, 1))\n",
       "    (1): BatchNorm2d(64, eps=1e-05, momentum=0.1, affine=True, track_running_stats=True)\n",
       "    (2): LeakyReLU(negative_slope=0.2)\n",
       "    (3): ConvTranspose2d(64, 32, kernel_size=(4, 4), stride=(2, 2), padding=(1, 1))\n",
       "    (4): BatchNorm2d(32, eps=1e-05, momentum=0.1, affine=True, track_running_stats=True)\n",
       "    (5): LeakyReLU(negative_slope=0.2)\n",
       "    (6): ConvTranspose2d(32, 16, kernel_size=(4, 4), stride=(2, 2), padding=(1, 1))\n",
       "    (7): BatchNorm2d(16, eps=1e-05, momentum=0.1, affine=True, track_running_stats=True)\n",
       "    (8): LeakyReLU(negative_slope=0.2)\n",
       "    (9): ConvTranspose2d(16, 1, kernel_size=(4, 4), stride=(2, 2), padding=(3, 3))\n",
       "    (10): Tanh()\n",
       "  )\n",
       ")"
      ]
     },
     "execution_count": 8,
     "metadata": {},
     "output_type": "execute_result"
    }
   ],
   "source": [
    "generator_model = Generator().to(device)\n",
    "generator_model.apply(weight_init_generator)"
   ]
  },
  {
   "cell_type": "code",
   "execution_count": 9,
   "metadata": {},
   "outputs": [],
   "source": [
    "dataset = torchvision.datasets.MNIST(\n",
    "    root=\"mnist_root_dir\",\n",
    "    download=True,\n",
    "    transform=transforms.Compose([\n",
    "        transforms.Resize(image_size),\n",
    "        transforms.CenterCrop(image_size),\n",
    "        transforms.ToTensor(),\n",
    "        transforms.Normalize(0.5, 0.5)\n",
    "    ])\n",
    ")\n",
    "filter_digit = 8\n",
    "idx = dataset.targets == filter_digit\n",
    "dataset.targets = dataset.targets[idx]\n",
    "dataset.data = dataset.data[idx]\n",
    "dataloader = torch.utils.data.DataLoader(dataset, batch_size=batch_size, shuffle=True, num_workers=num_workers)"
   ]
  },
  {
   "cell_type": "code",
   "execution_count": 10,
   "metadata": {},
   "outputs": [
    {
     "data": {
      "text/plain": [
       "(-0.5, 27.5, 27.5, -0.5)"
      ]
     },
     "execution_count": 10,
     "metadata": {},
     "output_type": "execute_result"
    },
    {
     "data": {
      "image/png": "[encoded data removed]",
      "text/plain": [
       "<Figure size 640x480 with 1 Axes>"
      ]
     },
     "metadata": {},
     "output_type": "display_data"
    }
   ],
   "source": [
    "dummy_batch = next(iter(dataloader))\n",
    "plt.imshow(dummy_batch[0][23][0], cmap=\"gray_r\")\n",
    "plt.title(f\"Image for number: {dummy_batch[1][23]}\")\n",
    "plt.axis(\"off\")"
   ]
  },
  {
   "cell_type": "code",
   "execution_count": 11,
   "metadata": {},
   "outputs": [],
   "source": [
    "optimizer_critic = optim.RMSprop(critic_model.parameters(), lr=5e-5)\n",
    "optimizer_generator = optim.RMSprop(generator_model.parameters(), lr=5e-5)"
   ]
  },
  {
   "cell_type": "code",
   "execution_count": 12,
   "metadata": {},
   "outputs": [
    {
     "name": "stdout",
     "output_type": "stream",
     "text": [
      "Starting training....\n",
      "Number of mini batch iterations per epoch: 92\n"
     ]
    },
    {
     "name": "stderr",
     "output_type": "stream",
     "text": [
      "0it [00:00, ?it/s]MIOpen(HIP): Warning [SQLiteBase] Missing system database file: gfx1030_14.kdb Performance may degrade. Please follow instructions to install: https://github.com/ROCmSoftwarePlatform/MIOpen#installing-miopen-kernels-package\n",
      "92it [00:32,  2.79it/s]"
     ]
    },
    {
     "name": "stdout",
     "output_type": "stream",
     "text": [
      "epoch: 0, d_loss: -46.2468, g_loss: -87.4146\n"
     ]
    },
    {
     "name": "stderr",
     "output_type": "stream",
     "text": [
      "\n",
      "92it [00:08, 10.38it/s]"
     ]
    },
    {
     "name": "stdout",
     "output_type": "stream",
     "text": [
      "epoch: 1, d_loss: -169.5318, g_loss: -432.3961\n"
     ]
    },
    {
     "name": "stderr",
     "output_type": "stream",
     "text": [
      "\n",
      "92it [00:08, 10.40it/s]"
     ]
    },
    {
     "name": "stdout",
     "output_type": "stream",
     "text": [
      "epoch: 2, d_loss: -295.9826, g_loss: -1354.9689\n"
     ]
    },
    {
     "name": "stderr",
     "output_type": "stream",
     "text": [
      "\n",
      "92it [00:08, 10.54it/s]"
     ]
    },
    {
     "name": "stdout",
     "output_type": "stream",
     "text": [
      "epoch: 3, d_loss: -72.1123, g_loss: -1846.3652\n"
     ]
    },
    {
     "name": "stderr",
     "output_type": "stream",
     "text": [
      "\n",
      "92it [00:08, 11.08it/s]"
     ]
    },
    {
     "name": "stdout",
     "output_type": "stream",
     "text": [
      "epoch: 4, d_loss: -61.2996, g_loss: -1413.2682\n"
     ]
    },
    {
     "name": "stderr",
     "output_type": "stream",
     "text": [
      "\n",
      "92it [00:08, 11.17it/s]"
     ]
    },
    {
     "name": "stdout",
     "output_type": "stream",
     "text": [
      "epoch: 5, d_loss: -69.4700, g_loss: -1229.3959\n"
     ]
    },
    {
     "name": "stderr",
     "output_type": "stream",
     "text": [
      "\n",
      "92it [00:08, 11.03it/s]"
     ]
    },
    {
     "name": "stdout",
     "output_type": "stream",
     "text": [
      "epoch: 6, d_loss: -63.9346, g_loss: -1033.5455\n"
     ]
    },
    {
     "name": "stderr",
     "output_type": "stream",
     "text": [
      "\n",
      "92it [00:08, 11.05it/s]\n"
     ]
    },
    {
     "name": "stdout",
     "output_type": "stream",
     "text": [
      "epoch: 7, d_loss: -48.6964, g_loss: -906.6110\n"
     ]
    },
    {
     "name": "stderr",
     "output_type": "stream",
     "text": [
      "92it [00:08, 11.00it/s]"
     ]
    },
    {
     "name": "stdout",
     "output_type": "stream",
     "text": [
      "epoch: 8, d_loss: -57.3464, g_loss: -863.0995\n"
     ]
    },
    {
     "name": "stderr",
     "output_type": "stream",
     "text": [
      "\n",
      "92it [00:08, 10.94it/s]"
     ]
    },
    {
     "name": "stdout",
     "output_type": "stream",
     "text": [
      "epoch: 9, d_loss: -79.5979, g_loss: -845.4300\n"
     ]
    },
    {
     "name": "stderr",
     "output_type": "stream",
     "text": [
      "\n"
     ]
    }
   ],
   "source": [
    "# Training loop\n",
    "print(\"Starting training....\")\n",
    "d_loss_hist = list()\n",
    "g_loss_hist = list()\n",
    "print(f\"Number of mini batch iterations per epoch: {len(dataloader)}\")\n",
    "for epoch in range(n_epochs):\n",
    "    for i, data in tqdm(enumerate(dataloader, 0)):\n",
    "        # Get batch of data\n",
    "        real_batch = data[0].to(device)\n",
    "        b_size = real_batch.shape[0]\n",
    "\n",
    "        d_loss_vals = list()\n",
    "        for _ in range(n_critic):\n",
    "            # Train critic weight for real images\n",
    "            critic_model.zero_grad()\n",
    "            d_loss_real = critic_model(real_batch)\n",
    "\n",
    "            # Update critic weight for fake images\n",
    "            noise = torch.randn(b_size, 100, 1, 1, device=device)\n",
    "            fake_batch = generator_model(noise)\n",
    "            d_loss_fake = critic_model(fake_batch)\n",
    "\n",
    "            d_loss = -torch.mean(d_loss_real - d_loss_fake)\n",
    "            if use_gp:\n",
    "                # Random weight term for interpolation\n",
    "                alpha = torch.rand(b_size, 1, 1, 1).to(device)\n",
    "                # Get random interpolations between real and fake\n",
    "                interpolates = torch.autograd.Variable(alpha * real_batch + (1 - alpha) * fake_batch, requires_grad=True).to(device)\n",
    "                d_interpolates = critic_model(interpolates)\n",
    "                fake = torch.autograd.Variable(torch.Tensor(d_interpolates.size()).fill_(1.0), requires_grad=False).to(device)\n",
    "                # Get gradient w.r.t interpolates\n",
    "                gradients = torch.autograd.grad(\n",
    "                    outputs=d_interpolates,\n",
    "                    inputs=interpolates,\n",
    "                    grad_outputs=fake,\n",
    "                    create_graph=True,\n",
    "                )[0]\n",
    "                gradient_penalty = ((gradients.norm(2, dim=1) - 1) ** 2).mean()\n",
    "                d_loss += lambda_gp * gradient_penalty\n",
    "            d_loss_vals.append(d_loss.detach().cpu().numpy())\n",
    "            d_loss.backward()\n",
    "            optimizer_critic.step()\n",
    "\n",
    "            if use_gp:\n",
    "                # no op\n",
    "                ...\n",
    "            else:\n",
    "                # Clamp critic weights\n",
    "                for p in critic_model.parameters():\n",
    "                    p.data.clamp_(-clipping_param, clipping_param)\n",
    "\n",
    "        d_loss_hist.append(np.mean(d_loss_vals))\n",
    "\n",
    "        # Update generator weight\n",
    "        generator_model.zero_grad()\n",
    "        noise = torch.randn(b_size, 100, 1, 1, device=device)\n",
    "        fake_batch = generator_model(noise)\n",
    "        output = critic_model(fake_batch)\n",
    "        g_loss = -torch.mean(output)\n",
    "        g_loss_hist.append(g_loss.detach().cpu().numpy())\n",
    "        g_loss.backward()\n",
    "        optimizer_generator.step()\n",
    "\n",
    "    # Summarize performance every epoch\n",
    "    if not epoch % 1:\n",
    "        tqdm.write(f\"epoch: {epoch}, d_loss: {d_loss_hist[-1]:.4f}, g_loss: {g_loss_hist[-1]:.4f}\")"
   ]
  },
  {
   "cell_type": "code",
   "execution_count": 13,
   "metadata": {},
   "outputs": [],
   "source": [
    "def plot_history(d_loss_hist, g_loss_hist):\n",
    "\t# plot history\n",
    "\tplt.plot(d_loss_hist, label='d_loss')\n",
    "\tplt.plot(g_loss_hist, label='g_loss')\n",
    "\tplt.legend()\n",
    "\tplt.savefig('loss_wgan_clamp.png')\n",
    "\tplt.close()"
   ]
  },
  {
   "cell_type": "code",
   "execution_count": 14,
   "metadata": {},
   "outputs": [],
   "source": [
    "plot_history(d_loss_hist, g_loss_hist)"
   ]
  },
  {
   "cell_type": "code",
   "execution_count": 15,
   "metadata": {},
   "outputs": [],
   "source": [
    "def generate_fake_images():\n",
    "    # Generate 100 fake images\n",
    "    noise = torch.randn(100, 100, 1, 1, device=device)\n",
    "    output = generator_model(noise)\n",
    "    output = output.detach().cpu()\n",
    "    output = (output + 1) / 2\n",
    "    plt.clf()\n",
    "    for i in range(100):\n",
    "        plt.subplot(10, 10, i + 1)\n",
    "        plt.axis(\"off\")\n",
    "        plt.imshow(output[i, 0, :, :], cmap=\"gray_r\")\n",
    "    plt.savefig(\"fake_images_wgan_clamp.png\")\n",
    "    plt.close()\n",
    "    return output"
   ]
  },
  {
   "cell_type": "code",
   "execution_count": 16,
   "metadata": {},
   "outputs": [],
   "source": [
    "_ = generate_fake_images()"
   ]
  }
 ],
 "metadata": {
  "kernelspec": {
   "display_name": "Python 3.8.10 ('vanilla')",
   "language": "python",
   "name": "python3"
  },
  "language_info": {
   "codemirror_mode": {
    "name": "ipython",
    "version": 3
   },
   "file_extension": ".py",
   "mimetype": "text/x-python",
   "name": "python",
   "nbconvert_exporter": "python",
   "pygments_lexer": "ipython3",
   "version": "3.8.10"
  },
  "orig_nbformat": 4,
  "vscode": {
   "interpreter": {
    "hash": "e79bffa39ae3b34dd6a67cfb7a86efb7a981f71c16a69aea29c61b44b39f0d36"
   }
  }
 },
 "nbformat": 4,
 "nbformat_minor": 2
}
