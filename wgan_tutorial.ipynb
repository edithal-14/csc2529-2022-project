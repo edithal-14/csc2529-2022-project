{
 "cells": [
  {
   "cell_type": "code",
   "execution_count": 1,
   "metadata": {},
   "outputs": [],
   "source": [
    "import torch\n",
    "import torch.optim as optim\n",
    "import torch.nn as nn\n",
    "import torch.nn.functional as F\n",
    "import torchvision\n",
    "import torchvision.transforms as transforms\n",
    "import matplotlib.pyplot as plt\n",
    "from tqdm import tqdm\n",
    "import numpy as np"
   ]
  },
  {
   "cell_type": "code",
   "execution_count": 2,
   "metadata": {},
   "outputs": [],
   "source": [
    "# Critic model configuration\n",
    "clipping_param = 0.01\n",
    "\n",
    "# Training configuration\n",
    "device = torch.device(\"cuda:0\")\n",
    "batch_size = 32\n",
    "real_label = -1.0\n",
    "fake_label = 1.0\n",
    "n_epochs = 100\n",
    "n_critic = 5\n",
    "\n",
    "# Dataset configuration\n",
    "image_size = 28\n",
    "num_workers = 16"
   ]
  },
  {
   "cell_type": "code",
   "execution_count": 3,
   "metadata": {},
   "outputs": [],
   "source": [
    "# Clip kernel weights between \n",
    "class ConstrainedConv2d(nn.Conv2d):\n",
    "    def forward(self, input):\n",
    "        return F.conv2d(\n",
    "            input,\n",
    "            self.weight.clamp(min=-clipping_param, max=clipping_param),\n",
    "            self.bias,\n",
    "            self.stride,\n",
    "            self.padding,\n",
    "            self.dilation,\n",
    "            self.groups\n",
    "        )"
   ]
  },
  {
   "cell_type": "code",
   "execution_count": 4,
   "metadata": {},
   "outputs": [],
   "source": [
    "def weight_init_critic(m):\n",
    "    if isinstance(m, ConstrainedConv2d):\n",
    "        nn.init.normal_(m.weight, 0.0, 0.02)"
   ]
  },
  {
   "cell_type": "code",
   "execution_count": 5,
   "metadata": {},
   "outputs": [],
   "source": [
    "class Critic(nn.Module):\n",
    "    def __init__(self, in_shape=(28, 28, 1)) -> None:\n",
    "        super(Critic, self).__init__()\n",
    "        # input_shape = 28\n",
    "        self.input_shape = in_shape[0]\n",
    "        self.main = nn.Sequential(\n",
    "            # input: 28 x 28\n",
    "            ConstrainedConv2d(1, 1, 4, stride=2, padding=1),\n",
    "            nn.BatchNorm2d(1),\n",
    "            nn.LeakyReLU(0.2),\n",
    "            # input: 14 x 14\n",
    "            ConstrainedConv2d(1, 1, 4, stride=2, padding=1),\n",
    "            nn.BatchNorm2d(1),\n",
    "            nn.LeakyReLU(0.2),\n",
    "            # output: 7 x 7\n",
    "            nn.Flatten(),\n",
    "            nn.Linear(\n",
    "                self.input_shape // 4 * self.input_shape // 4,\n",
    "                1\n",
    "            )\n",
    "        )\n",
    "    \n",
    "    def forward(self, input):\n",
    "        return self.main(input)"
   ]
  },
  {
   "cell_type": "code",
   "execution_count": 6,
   "metadata": {},
   "outputs": [
    {
     "data": {
      "text/plain": [
       "Critic(\n",
       "  (main): Sequential(\n",
       "    (0): ConstrainedConv2d(1, 1, kernel_size=(4, 4), stride=(2, 2), padding=(1, 1))\n",
       "    (1): BatchNorm2d(1, eps=1e-05, momentum=0.1, affine=True, track_running_stats=True)\n",
       "    (2): LeakyReLU(negative_slope=0.2)\n",
       "    (3): ConstrainedConv2d(1, 1, kernel_size=(4, 4), stride=(2, 2), padding=(1, 1))\n",
       "    (4): BatchNorm2d(1, eps=1e-05, momentum=0.1, affine=True, track_running_stats=True)\n",
       "    (5): LeakyReLU(negative_slope=0.2)\n",
       "    (6): Flatten(start_dim=1, end_dim=-1)\n",
       "    (7): Linear(in_features=49, out_features=1, bias=True)\n",
       "  )\n",
       ")"
      ]
     },
     "execution_count": 6,
     "metadata": {},
     "output_type": "execute_result"
    }
   ],
   "source": [
    "critic_model = Critic().to(device)\n",
    "critic_model.apply(weight_init_critic)"
   ]
  },
  {
   "cell_type": "code",
   "execution_count": 7,
   "metadata": {},
   "outputs": [],
   "source": [
    "def weight_init_generator(m):\n",
    "    if (\n",
    "        isinstance(m, nn.Linear) or\n",
    "        isinstance(m, nn.ConvTranspose2d) or\n",
    "        isinstance(m, nn.Conv2d)\n",
    "    ):\n",
    "        nn.init.normal_(m.weight, 0.0, 0.02)"
   ]
  },
  {
   "cell_type": "code",
   "execution_count": 8,
   "metadata": {},
   "outputs": [],
   "source": [
    "class Generator(nn.Module):\n",
    "    def __init__(self, latent_dim) -> None:\n",
    "        super(Generator, self).__init__()\n",
    "        self.latent_dim = latent_dim\n",
    "        # Lay foundation for 7 x 7 image with 128 channels\n",
    "        n_nodes = 128 * 7 * 7\n",
    "        self.main = nn.Sequential(\n",
    "            nn.Linear(latent_dim, n_nodes),\n",
    "            nn.LeakyReLU(0.2),\n",
    "            nn.Unflatten(1, (128, 7, 7)),\n",
    "            # input: 7 x 7\n",
    "            nn.ConvTranspose2d(128, 128, 4, stride=2, padding=1),\n",
    "            nn.BatchNorm2d(128),\n",
    "            nn.LeakyReLU(0.2),\n",
    "            # input: 14 x 14\n",
    "            nn.ConvTranspose2d(128, 1, 4, 2, 1),\n",
    "            nn.BatchNorm2d(1),\n",
    "            nn.LeakyReLU(0.2),\n",
    "            # input: 28 x 28\n",
    "            nn.Conv2d(1, 1, 7, padding=\"same\"),\n",
    "            nn.Tanh()\n",
    "            # output: 28 x 28\n",
    "        )\n",
    "    \n",
    "    def forward(self, input):\n",
    "        return self.main(input)"
   ]
  },
  {
   "cell_type": "code",
   "execution_count": 9,
   "metadata": {},
   "outputs": [
    {
     "data": {
      "text/plain": [
       "Generator(\n",
       "  (main): Sequential(\n",
       "    (0): Linear(in_features=50, out_features=6272, bias=True)\n",
       "    (1): LeakyReLU(negative_slope=0.2)\n",
       "    (2): Unflatten(dim=1, unflattened_size=(128, 7, 7))\n",
       "    (3): ConvTranspose2d(128, 128, kernel_size=(4, 4), stride=(2, 2), padding=(1, 1))\n",
       "    (4): BatchNorm2d(128, eps=1e-05, momentum=0.1, affine=True, track_running_stats=True)\n",
       "    (5): LeakyReLU(negative_slope=0.2)\n",
       "    (6): ConvTranspose2d(128, 1, kernel_size=(4, 4), stride=(2, 2), padding=(1, 1))\n",
       "    (7): BatchNorm2d(1, eps=1e-05, momentum=0.1, affine=True, track_running_stats=True)\n",
       "    (8): LeakyReLU(negative_slope=0.2)\n",
       "    (9): Conv2d(1, 1, kernel_size=(7, 7), stride=(1, 1), padding=same)\n",
       "    (10): Tanh()\n",
       "  )\n",
       ")"
      ]
     },
     "execution_count": 9,
     "metadata": {},
     "output_type": "execute_result"
    }
   ],
   "source": [
    "generator_model = Generator(50).to(device)\n",
    "generator_model.apply(weight_init_generator)"
   ]
  },
  {
   "cell_type": "code",
   "execution_count": 10,
   "metadata": {},
   "outputs": [],
   "source": [
    "dataset = torchvision.datasets.MNIST(\n",
    "    root=\"mnist_root_dir\",\n",
    "    download=True,\n",
    "    transform=transforms.Compose([\n",
    "        transforms.Resize(image_size),\n",
    "        transforms.CenterCrop(image_size),\n",
    "        transforms.ToTensor(),\n",
    "        transforms.Normalize(0.5, 0.5)\n",
    "    ])\n",
    ")\n",
    "filter_digit = 7\n",
    "idx = dataset.targets == filter_digit\n",
    "dataset.targets = dataset.targets[idx]\n",
    "dataset.data = dataset.data[idx]\n",
    "dataloader = torch.utils.data.DataLoader(dataset, batch_size=batch_size, shuffle=True, num_workers=num_workers)"
   ]
  },
  {
   "cell_type": "code",
   "execution_count": 11,
   "metadata": {},
   "outputs": [
    {
     "data": {
      "text/plain": [
       "(-0.5, 27.5, 27.5, -0.5)"
      ]
     },
     "execution_count": 11,
     "metadata": {},
     "output_type": "execute_result"
    },
    {
     "data": {
      "image/png": "[encoded data removed]",
      "text/plain": [
       "<Figure size 640x480 with 1 Axes>"
      ]
     },
     "metadata": {},
     "output_type": "display_data"
    }
   ],
   "source": [
    "dummy_batch = next(iter(dataloader))\n",
    "plt.imshow(dummy_batch[0][23][0])\n",
    "plt.title(f\"Image for number: {dummy_batch[1][23]}\")\n",
    "plt.axis(\"off\")"
   ]
  },
  {
   "cell_type": "code",
   "execution_count": 12,
   "metadata": {},
   "outputs": [],
   "source": [
    "optimizer_critic = optim.RMSprop(critic_model.parameters(), lr=5e-5)\n",
    "optimizer_generator = optim.RMSprop(generator_model.parameters(), lr=5e-5)"
   ]
  },
  {
   "cell_type": "code",
   "execution_count": 13,
   "metadata": {},
   "outputs": [],
   "source": [
    "def wasserstein_loss(y_true, y_pred):\n",
    "    return torch.mean(y_true * y_pred)"
   ]
  },
  {
   "cell_type": "code",
   "execution_count": null,
   "metadata": {},
   "outputs": [],
   "source": [
    "# Training loop\n",
    "print(\"Starting training....\")\n",
    "c1_hist = list()\n",
    "c2_hist = list()\n",
    "g_hist  = list()\n",
    "print(f\"Number of mini batch iterations per epoch: {len(dataloader)}\")\n",
    "for epoch in range(n_epochs):\n",
    "    for i, data in tqdm(enumerate(dataloader, 0)):\n",
    "        c1_loss = list()\n",
    "        c2_loss = list()\n",
    "        for _ in range(n_critic):\n",
    "            real_batch = data[0].to(device)\n",
    "            b_size = real_batch.shape[0]\n",
    "\n",
    "            # Update critic weight for real images\n",
    "            critic_model.zero_grad()\n",
    "            label = torch.full((b_size,), real_label, dtype=torch.float, device=device)\n",
    "            output = critic_model(real_batch)\n",
    "            loss = wasserstein_loss(label, output)\n",
    "            loss.backward()\n",
    "            c1_loss.append(loss.detach().cpu())\n",
    "            optimizer_critic.step()\n",
    "\n",
    "            # Update critic weight for fake images\n",
    "            critic_model.zero_grad()\n",
    "            noise = torch.randn(b_size, 50, device=device)\n",
    "            fake_batch = generator_model(noise)\n",
    "            label.fill_(fake_label)\n",
    "            output = critic_model(fake_batch)\n",
    "            loss = wasserstein_loss(label, output)\n",
    "            loss.backward()\n",
    "            c2_loss.append(loss.detach().cpu())\n",
    "            optimizer_critic.step()\n",
    "\n",
    "        c1_hist.append(np.mean(c1_loss))\n",
    "        c2_hist.append(np.mean(c2_loss))\n",
    "        # Update generator weight\n",
    "        generator_model.zero_grad()\n",
    "        critic_model.zero_grad()\n",
    "        noise = torch.randn(2 * b_size, 50, device=device)\n",
    "        fake_batch = generator_model(noise)\n",
    "        label.fill_(real_label)\n",
    "        output = critic_model(fake_batch)\n",
    "        loss = wasserstein_loss(label, output)\n",
    "        loss.backward()\n",
    "        g_hist.append(loss.detach().cpu())\n",
    "        optimizer_generator.step()\n",
    "\n",
    "    # Summarize performance every epoch\n",
    "    if not epoch % 1:\n",
    "        tqdm.write(\"\".join((\n",
    "            f\"epoch: {epoch}, c1 loss: {c1_hist[-1]:.4f}, \",\n",
    "            f\"c2 loss: {c2_hist[-1]:.4f}, g loss: {g_hist[-1]:.4f}\"\n",
    "        )))"
   ]
  },
  {
   "cell_type": "code",
   "execution_count": null,
   "metadata": {},
   "outputs": [],
   "source": [
    "def plot_history(d1_hist, d2_hist, g_hist):\n",
    "\t# plot history\n",
    "\tplt.plot(d1_hist, label='crit_real')\n",
    "\tplt.plot(d2_hist, label='crit_fake')\n",
    "\tplt.plot(g_hist, label='gen')\n",
    "\tplt.legend()\n",
    "\tplt.savefig('plot_line_plot_loss.png')\n",
    "\tplt.close()"
   ]
  },
  {
   "cell_type": "code",
   "execution_count": null,
   "metadata": {},
   "outputs": [],
   "source": [
    "plot_history(c1_hist, c2_hist, g_hist)"
   ]
  }
 ],
 "metadata": {
  "kernelspec": {
   "display_name": "Python 3.8.10 ('vanilla')",
   "language": "python",
   "name": "python3"
  },
  "language_info": {
   "codemirror_mode": {
    "name": "ipython",
    "version": 3
   },
   "file_extension": ".py",
   "mimetype": "text/x-python",
   "name": "python",
   "nbconvert_exporter": "python",
   "pygments_lexer": "ipython3",
   "version": "3.8.10"
  },
  "orig_nbformat": 4,
  "vscode": {
   "interpreter": {
    "hash": "e79bffa39ae3b34dd6a67cfb7a86efb7a981f71c16a69aea29c61b44b39f0d36"
   }
  }
 },
 "nbformat": 4,
 "nbformat_minor": 2
}
